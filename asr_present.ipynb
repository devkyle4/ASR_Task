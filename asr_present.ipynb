{
  "metadata": {
    "colab": {
      "provenance": [],
      "gpuType": "T4"
    },
    "kernelspec": {
      "name": "python3",
      "display_name": "Python 3",
      "language": "python"
    },
    "language_info": {
      "name": "python",
      "version": "3.10.13",
      "mimetype": "text/x-python",
      "codemirror_mode": {
        "name": "ipython",
        "version": 3
      },
      "pygments_lexer": "ipython3",
      "nbconvert_exporter": "python",
      "file_extension": ".py"
    },
    "accelerator": "GPU",
    "kaggle": {
      "accelerator": "nvidiaTeslaT4",
      "dataSources": [],
      "dockerImageVersionId": 30699,
      "isInternetEnabled": true,
      "language": "python",
      "sourceType": "notebook",
      "isGpuEnabled": true
    }
  },
  "nbformat_minor": 0,
  "nbformat": 4,
  "cells": [
    {
      "cell_type": "code",
      "source": [
        "!pip install dropbox"
      ],
      "metadata": {
        "colab": {
          "base_uri": "https://localhost:8080/"
        },
        "id": "uZSfPw6tPnTp",
        "outputId": "0944ccf0-3af0-4f80-ee75-d3e591385dbd",
        "execution": {
          "iopub.status.busy": "2024-04-28T01:38:25.956647Z",
          "iopub.execute_input": "2024-04-28T01:38:25.957685Z",
          "iopub.status.idle": "2024-04-28T01:38:38.287409Z",
          "shell.execute_reply.started": "2024-04-28T01:38:25.957648Z",
          "shell.execute_reply": "2024-04-28T01:38:38.286246Z"
        },
        "trusted": true
      },
      "execution_count": 1,
      "outputs": [
        {
          "output_type": "stream",
          "name": "stdout",
          "text": [
            "Collecting dropbox\n",
            "  Downloading dropbox-11.36.2-py3-none-any.whl (594 kB)\n",
            "\u001b[2K     \u001b[90m━━━━━━━━━━━━━━━━━━━━━━━━━━━━━━━━━━━━━━━━\u001b[0m \u001b[32m594.0/594.0 kB\u001b[0m \u001b[31m3.7 MB/s\u001b[0m eta \u001b[36m0:00:00\u001b[0m\n",
            "\u001b[?25hRequirement already satisfied: requests>=2.16.2 in /usr/local/lib/python3.10/dist-packages (from dropbox) (2.31.0)\n",
            "Requirement already satisfied: six>=1.12.0 in /usr/local/lib/python3.10/dist-packages (from dropbox) (1.16.0)\n",
            "Collecting stone>=2 (from dropbox)\n",
            "  Downloading stone-3.3.3-py3-none-any.whl (158 kB)\n",
            "\u001b[2K     \u001b[90m━━━━━━━━━━━━━━━━━━━━━━━━━━━━━━━━━━━━━━━━\u001b[0m \u001b[32m158.6/158.6 kB\u001b[0m \u001b[31m13.4 MB/s\u001b[0m eta \u001b[36m0:00:00\u001b[0m\n",
            "\u001b[?25hRequirement already satisfied: charset-normalizer<4,>=2 in /usr/local/lib/python3.10/dist-packages (from requests>=2.16.2->dropbox) (3.3.2)\n",
            "Requirement already satisfied: idna<4,>=2.5 in /usr/local/lib/python3.10/dist-packages (from requests>=2.16.2->dropbox) (3.7)\n",
            "Requirement already satisfied: urllib3<3,>=1.21.1 in /usr/local/lib/python3.10/dist-packages (from requests>=2.16.2->dropbox) (2.0.7)\n",
            "Requirement already satisfied: certifi>=2017.4.17 in /usr/local/lib/python3.10/dist-packages (from requests>=2.16.2->dropbox) (2024.2.2)\n",
            "Collecting ply>=3.4 (from stone>=2->dropbox)\n",
            "  Downloading ply-3.11-py2.py3-none-any.whl (49 kB)\n",
            "\u001b[2K     \u001b[90m━━━━━━━━━━━━━━━━━━━━━━━━━━━━━━━━━━━━━━━━\u001b[0m \u001b[32m49.6/49.6 kB\u001b[0m \u001b[31m5.1 MB/s\u001b[0m eta \u001b[36m0:00:00\u001b[0m\n",
            "\u001b[?25hInstalling collected packages: ply, stone, dropbox\n",
            "Successfully installed dropbox-11.36.2 ply-3.11 stone-3.3.3\n"
          ]
        }
      ]
    },
    {
      "cell_type": "code",
      "source": [
        "import os\n",
        "import io\n",
        "import sys\n",
        "import torch\n",
        "import dropbox\n",
        "import torchaudio\n",
        "import numpy as np\n",
        "import pandas as pd\n",
        "from torch.utils.data import Dataset, DataLoader\n",
        "import torchaudio.transforms as T\n",
        "from torchvision import transforms\n",
        "import torch.optim as optim\n",
        "from PIL import Image\n",
        "import matplotlib.pyplot as plt\n",
        "import torch.nn as nn\n",
        "from torch.nn.utils.rnn import pad_sequence\n",
        "from torch.cuda.amp import GradScaler, autocast\n",
        "import torch.nn.functional as F"
      ],
      "metadata": {
        "id": "JOOu2lPEpclq",
        "execution": {
          "iopub.status.busy": "2024-04-28T01:38:38.289545Z",
          "iopub.execute_input": "2024-04-28T01:38:38.289872Z",
          "iopub.status.idle": "2024-04-28T01:38:38.298955Z",
          "shell.execute_reply.started": "2024-04-28T01:38:38.289842Z",
          "shell.execute_reply": "2024-04-28T01:38:38.298244Z"
        },
        "trusted": true
      },
      "execution_count": 2,
      "outputs": []
    },
    {
      "cell_type": "code",
      "source": [
        "from torch.utils.data import random_split"
      ],
      "metadata": {
        "id": "lY9A9eK3gfl4",
        "execution": {
          "iopub.status.busy": "2024-04-28T01:38:38.300321Z",
          "iopub.execute_input": "2024-04-28T01:38:38.300777Z",
          "iopub.status.idle": "2024-04-28T01:38:38.342541Z",
          "shell.execute_reply.started": "2024-04-28T01:38:38.300742Z",
          "shell.execute_reply": "2024-04-28T01:38:38.341604Z"
        },
        "trusted": true
      },
      "execution_count": 3,
      "outputs": []
    },
    {
      "cell_type": "code",
      "source": [
        "!pip freeze > requirements.txt"
      ],
      "metadata": {
        "id": "uDTGCd0_A4kv",
        "execution": {
          "iopub.status.busy": "2024-04-28T01:38:38.345181Z",
          "iopub.execute_input": "2024-04-28T01:38:38.345931Z",
          "iopub.status.idle": "2024-04-28T01:38:40.926608Z",
          "shell.execute_reply.started": "2024-04-28T01:38:38.345907Z",
          "shell.execute_reply": "2024-04-28T01:38:40.925295Z"
        },
        "trusted": true
      },
      "execution_count": 4,
      "outputs": []
    },
    {
      "cell_type": "code",
      "source": [
        "# from kaggle_secrets import UserSecretsClient\n",
        "# user_secrets = UserSecretsClient()\n",
        "# secret_value = user_secrets.get_secret(\"dbx_token\")"
      ],
      "metadata": {
        "execution": {
          "iopub.status.busy": "2024-04-28T01:38:40.928446Z",
          "iopub.execute_input": "2024-04-28T01:38:40.928844Z",
          "iopub.status.idle": "2024-04-28T01:38:41.041332Z",
          "shell.execute_reply.started": "2024-04-28T01:38:40.928807Z",
          "shell.execute_reply": "2024-04-28T01:38:41.040367Z"
        },
        "trusted": true,
        "id": "QgKBjMt8jaP5"
      },
      "execution_count": 5,
      "outputs": []
    },
    {
      "cell_type": "code",
      "source": [
        "from google.colab import userdata\n",
        "dbx_token = userdata.get('dbx_token')\n",
        "dbx = dropbox.Dropbox(dbx_token)"
      ],
      "metadata": {
        "id": "ZcwxgOh3kuR0"
      },
      "execution_count": 6,
      "outputs": []
    },
    {
      "cell_type": "code",
      "source": [
        "# STREAM DATA FROM DROPBOX\n",
        "\n",
        "def stream_data_from_dropbox(path):\n",
        "  _, res = dbx.files_download(path)\n",
        "  data = io.BytesIO(res.content)\n",
        "  return data"
      ],
      "metadata": {
        "id": "YrskzXRifD3G",
        "execution": {
          "iopub.status.busy": "2024-04-28T01:38:41.049902Z",
          "iopub.execute_input": "2024-04-28T01:38:41.050434Z",
          "iopub.status.idle": "2024-04-28T01:38:41.057447Z",
          "shell.execute_reply.started": "2024-04-28T01:38:41.050399Z",
          "shell.execute_reply": "2024-04-28T01:38:41.056448Z"
        },
        "trusted": true
      },
      "execution_count": 7,
      "outputs": []
    },
    {
      "cell_type": "code",
      "source": [
        "audio_transcript_path=\"/Akan/selected transcribed audios/selected transcribed audios.xlsx\"\n",
        "audio_transcript_data = stream_data_from_dropbox(audio_transcript_path)\n",
        "transcribed_audios_df = pd.read_excel(audio_transcript_data)"
      ],
      "metadata": {
        "id": "SGcyb6oviA_q",
        "execution": {
          "iopub.status.busy": "2024-04-28T01:38:41.058792Z",
          "iopub.execute_input": "2024-04-28T01:38:41.059829Z",
          "iopub.status.idle": "2024-04-28T01:38:50.974911Z",
          "shell.execute_reply.started": "2024-04-28T01:38:41.059793Z",
          "shell.execute_reply": "2024-04-28T01:38:50.974093Z"
        },
        "trusted": true
      },
      "execution_count": 8,
      "outputs": []
    },
    {
      "cell_type": "code",
      "source": [
        "def avg_wer(wer_scores, combined_ref_len):\n",
        "  return float(sum(wer_scores)) / float(combined_ref_len)\n",
        "\n",
        "def levenshtein_distance(ref, hyp):\n",
        "  m = len(ref)\n",
        "  n = len(hyp)\n",
        "\n",
        "  # Special Case\n",
        "  if ref == hyp:\n",
        "    return 0\n",
        "  if m == 0:\n",
        "    return n\n",
        "  if n == 0:\n",
        "    return m\n",
        "\n",
        "  if m<n:\n",
        "    ref, hyp = hyp, ref\n",
        "    m, n = n, m\n",
        "\n",
        "\n",
        "  distance = np.zeros((2, n+1), dtype=np.int32)\n",
        "\n",
        "  # initialize distance matrix\n",
        "  for j in range(0,n + 1):\n",
        "      distance[0][j] = j\n",
        "\n",
        "  # calculate levenshtein distance\n",
        "  for i in range(1, m + 1):\n",
        "      prev_row_idx = (i - 1) % 2\n",
        "      cur_row_idx = i % 2\n",
        "      distance[cur_row_idx][0] = i\n",
        "      for j in range(1, n + 1):\n",
        "          if ref[i - 1] == hyp[j - 1]:\n",
        "              distance[cur_row_idx][j] = distance[prev_row_idx][j - 1]\n",
        "          else:\n",
        "              s_num = distance[prev_row_idx][j - 1] + 1\n",
        "              i_num = distance[cur_row_idx][j - 1] + 1\n",
        "              d_num = distance[prev_row_idx][j] + 1\n",
        "              distance[cur_row_idx][j] = min(s_num, i_num, d_num)\n",
        "\n",
        "  return distance[m % 2][n]\n",
        "\n",
        "\n",
        "def word_errors(reference, hypothesis, ignore_case=False, delimiter=' '):\n",
        "    if ignore_case == True:\n",
        "        reference = reference.lower()\n",
        "        hypothesis = hypothesis.lower()\n",
        "\n",
        "    ref_words = reference.split(delimiter)\n",
        "    hyp_words = hypothesis.split(delimiter)\n",
        "\n",
        "    edit_distance = levenshtein_distance(ref_words, hyp_words)\n",
        "    return float(edit_distance), len(ref_words)\n",
        "\n",
        "\n",
        "def char_errors(reference, hypothesis,ignore_case=False, remove_space=False):\n",
        "    if ignore_case == True:\n",
        "      reference = reference.lower()\n",
        "      hypothesis = hypothesis.lower()\n",
        "\n",
        "    join_char = ' '\n",
        "    if remove_space == True:\n",
        "        join_char = ''\n",
        "\n",
        "\n",
        "    reference = join_char.join(filter(None,reference.split(' ')))\n",
        "    hypothesis = join_char.join(filter(None, reference.split(' ')))\n",
        "\n",
        "\n",
        "\n",
        "    edit_distance = levenshtein_distance(reference, hypothesis)\n",
        "    return float(edit_distance), len(reference)\n",
        "\n",
        "\n",
        "def wer(reference, hypothesis, ignore_case=False, delimiter=' '):\n",
        "    edit_distance, ref_len = word_errors(reference, hypothesis, ignore_case,\n",
        "                                         delimiter)\n",
        "    if ref_len == 0:\n",
        "        raise ValueError(\"Reference's word number should be greater than 0.\")\n",
        "\n",
        "    wer = float(edit_distance) / ref_len\n",
        "    return wer\n",
        "\n",
        "\n",
        "def cer(reference, hypothesis, ignore_case=False, remove_space=False):\n",
        "    edit_distance, ref_len = char_errors(reference, hypothesis, ignore_case,\n",
        "                                         remove_space)\n",
        "\n",
        "    if ref_len == 0:\n",
        "        raise ValueError(\"Length of reference should be greater than 0.\")\n",
        "\n",
        "    cer = float(edit_distance) / ref_len\n",
        "    return cer"
      ],
      "metadata": {
        "id": "WKxghjwnbvQp",
        "execution": {
          "iopub.status.busy": "2024-04-28T01:38:50.976038Z",
          "iopub.execute_input": "2024-04-28T01:38:50.976446Z",
          "iopub.status.idle": "2024-04-28T01:38:50.996927Z",
          "shell.execute_reply.started": "2024-04-28T01:38:50.976420Z",
          "shell.execute_reply": "2024-04-28T01:38:50.995968Z"
        },
        "trusted": true
      },
      "execution_count": 9,
      "outputs": []
    },
    {
      "cell_type": "code",
      "source": [
        "# def text_to_sequence(text, vocabularies):\n",
        "#   return [vocabularies.get(char, vocabularies['<unk>']) for char in text]"
      ],
      "metadata": {
        "id": "ik6hgRLWcAjz",
        "execution": {
          "iopub.status.busy": "2024-04-28T01:38:51.001231Z",
          "iopub.execute_input": "2024-04-28T01:38:51.001573Z",
          "iopub.status.idle": "2024-04-28T01:38:51.009380Z",
          "shell.execute_reply.started": "2024-04-28T01:38:51.001544Z",
          "shell.execute_reply": "2024-04-28T01:38:51.007854Z"
        },
        "trusted": true
      },
      "execution_count": 10,
      "outputs": []
    },
    {
      "cell_type": "code",
      "source": [
        "characters_to_remove = ['Q', 'X', 'Ɔ','Ↄ',\n",
        "  'A', 'B', 'D', 'E', 'F', 'G', 'H', 'I', 'J', 'K', 'L', 'M', 'N', 'O', 'P', 'Q', 'R', 'S', 'T', 'U', 'V', 'W', 'Y', 'Z']"
      ],
      "metadata": {
        "id": "PHuF48AOHl0Y",
        "execution": {
          "iopub.status.busy": "2024-04-28T01:38:51.011212Z",
          "iopub.execute_input": "2024-04-28T01:38:51.011544Z",
          "iopub.status.idle": "2024-04-28T01:38:51.018009Z",
          "shell.execute_reply.started": "2024-04-28T01:38:51.011520Z",
          "shell.execute_reply": "2024-04-28T01:38:51.017316Z"
        },
        "trusted": true
      },
      "execution_count": 11,
      "outputs": []
    },
    {
      "cell_type": "code",
      "source": [
        "def build_vocab(transcripts, chars_to_remove):\n",
        "  unique_chars = set()\n",
        "  chars = set(''.join(transcripts))\n",
        "\n",
        "  for char in chars:\n",
        "    if char not in chars_to_remove:\n",
        "      unique_chars.add(char)\n",
        "\n",
        "  # Ensuring that special characters are not already part of the transcripts\n",
        "  special_tokens = {'<pad>', '<unk>'}\n",
        "  unique_chars = unique_chars.difference(special_tokens)\n",
        "\n",
        "  char_to_id = {char: id + 1 for id, char in enumerate(sorted(unique_chars)) }\n",
        "  char_to_id['<pad>'] = 0  # Padding token\n",
        "  char_to_id['<unk>'] = len(char_to_id)  # Unknown token, for characters not in the vocabulary\n",
        "\n",
        "\n",
        "  return char_to_id\n",
        "\n",
        "vocab = build_vocab(transcribed_audios_df['Transcriptions'], characters_to_remove)"
      ],
      "metadata": {
        "id": "XcrBjFA8bzRU",
        "execution": {
          "iopub.status.busy": "2024-04-28T01:38:51.019021Z",
          "iopub.execute_input": "2024-04-28T01:38:51.019322Z",
          "iopub.status.idle": "2024-04-28T01:38:51.097710Z",
          "shell.execute_reply.started": "2024-04-28T01:38:51.019297Z",
          "shell.execute_reply": "2024-04-28T01:38:51.096897Z"
        },
        "trusted": true
      },
      "execution_count": 12,
      "outputs": []
    },
    {
      "cell_type": "code",
      "source": [
        "vocab"
      ],
      "metadata": {
        "id": "50KibTTW1nWc",
        "colab": {
          "base_uri": "https://localhost:8080/"
        },
        "outputId": "5e7932e0-e113-4ebb-fec6-e0b3c5ca76de",
        "execution": {
          "iopub.status.busy": "2024-04-28T01:38:51.098741Z",
          "iopub.execute_input": "2024-04-28T01:38:51.099089Z",
          "iopub.status.idle": "2024-04-28T01:38:51.110366Z",
          "shell.execute_reply.started": "2024-04-28T01:38:51.099052Z",
          "shell.execute_reply": "2024-04-28T01:38:51.109599Z"
        },
        "trusted": true
      },
      "execution_count": 13,
      "outputs": [
        {
          "output_type": "execute_result",
          "data": {
            "text/plain": [
              "{' ': 1,\n",
              " '!': 2,\n",
              " '\"': 3,\n",
              " \"'\": 4,\n",
              " ')': 5,\n",
              " ',': 6,\n",
              " '-': 7,\n",
              " '.': 8,\n",
              " '/': 9,\n",
              " '0': 10,\n",
              " '1': 11,\n",
              " '2': 12,\n",
              " '3': 13,\n",
              " '4': 14,\n",
              " '5': 15,\n",
              " '6': 16,\n",
              " '7': 17,\n",
              " '8': 18,\n",
              " '9': 19,\n",
              " ':': 20,\n",
              " ';': 21,\n",
              " '=': 22,\n",
              " 'C': 23,\n",
              " '[': 24,\n",
              " '\\\\': 25,\n",
              " 'a': 26,\n",
              " 'b': 27,\n",
              " 'c': 28,\n",
              " 'd': 29,\n",
              " 'e': 30,\n",
              " 'f': 31,\n",
              " 'g': 32,\n",
              " 'h': 33,\n",
              " 'i': 34,\n",
              " 'j': 35,\n",
              " 'k': 36,\n",
              " 'l': 37,\n",
              " 'm': 38,\n",
              " 'n': 39,\n",
              " 'o': 40,\n",
              " 'p': 41,\n",
              " 'q': 42,\n",
              " 'r': 43,\n",
              " 's': 44,\n",
              " 't': 45,\n",
              " 'u': 46,\n",
              " 'v': 47,\n",
              " 'w': 48,\n",
              " 'x': 49,\n",
              " 'y': 50,\n",
              " 'z': 51,\n",
              " 'ä': 52,\n",
              " 'Ɛ': 53,\n",
              " 'ƒ': 54,\n",
              " 'ɔ': 55,\n",
              " 'ɛ': 56,\n",
              " 'ʋ': 57,\n",
              " '‘': 58,\n",
              " '’': 59,\n",
              " '…': 60,\n",
              " 'ℇ': 61,\n",
              " 'ↄ': 62,\n",
              " '<pad>': 0,\n",
              " '<unk>': 63}"
            ]
          },
          "metadata": {},
          "execution_count": 13
        }
      ]
    },
    {
      "cell_type": "code",
      "source": [
        "class TransformText:\n",
        "  def __init__(self, vocab):\n",
        "    self.vocab = vocab\n",
        "    self.char_map = {}\n",
        "    self.index_map = {}\n",
        "\n",
        "    for ch, idx in vocab.items():\n",
        "      self.char_map[ch] = int(idx)\n",
        "      self.index_map[idx] = ch\n",
        "\n",
        "\n",
        "  # CHANGING TEXT TO INT SEQUENCE\n",
        "  def text_to_int_seq(self, text):\n",
        "    text = text.lower()\n",
        "    int_sequence = []\n",
        "\n",
        "    for char in text:\n",
        "      char = self.char_map[char]\n",
        "      int_sequence.append(char)\n",
        "    return int_sequence\n",
        "\n",
        "\n",
        "  def int_to_text(self, labels):\n",
        "    string = []\n",
        "    for i in labels:\n",
        "      string.append(self.index_map.get(i, '<unk>'))\n",
        "    return ''.join(string)\n",
        "\n",
        "\n",
        "text_transform = TransformText(vocab)"
      ],
      "metadata": {
        "id": "XvcvDuQSb3ZB",
        "execution": {
          "iopub.status.busy": "2024-04-28T01:38:51.111463Z",
          "iopub.execute_input": "2024-04-28T01:38:51.111749Z",
          "iopub.status.idle": "2024-04-28T01:38:51.119945Z",
          "shell.execute_reply.started": "2024-04-28T01:38:51.111726Z",
          "shell.execute_reply": "2024-04-28T01:38:51.119142Z"
        },
        "trusted": true
      },
      "execution_count": 14,
      "outputs": []
    },
    {
      "cell_type": "code",
      "source": [
        "text_transform.text_to_int_seq(\"The young boy is calm\")"
      ],
      "metadata": {
        "colab": {
          "base_uri": "https://localhost:8080/"
        },
        "id": "H1MoC3whJ7zI",
        "outputId": "b3cabfd9-15e7-4ca4-e5f7-3ffc81d68743",
        "execution": {
          "iopub.status.busy": "2024-04-28T01:38:51.121131Z",
          "iopub.execute_input": "2024-04-28T01:38:51.121502Z",
          "iopub.status.idle": "2024-04-28T01:38:51.133162Z",
          "shell.execute_reply.started": "2024-04-28T01:38:51.121476Z",
          "shell.execute_reply": "2024-04-28T01:38:51.132158Z"
        },
        "trusted": true
      },
      "execution_count": 15,
      "outputs": [
        {
          "output_type": "execute_result",
          "data": {
            "text/plain": [
              "[45,\n",
              " 33,\n",
              " 30,\n",
              " 1,\n",
              " 50,\n",
              " 40,\n",
              " 46,\n",
              " 39,\n",
              " 32,\n",
              " 1,\n",
              " 27,\n",
              " 40,\n",
              " 50,\n",
              " 1,\n",
              " 34,\n",
              " 44,\n",
              " 1,\n",
              " 28,\n",
              " 26,\n",
              " 37,\n",
              " 38]"
            ]
          },
          "metadata": {},
          "execution_count": 15
        }
      ]
    },
    {
      "cell_type": "code",
      "source": [
        "text_transform.int_to_text([45, 33, 30, 1, 50, 40, 46, 39, 32, 1, 27, 40, 50, 1, 34, 44, 1, 28, 26, 37, 38])"
      ],
      "metadata": {
        "colab": {
          "base_uri": "https://localhost:8080/",
          "height": 36
        },
        "id": "TyCaY4zscq5A",
        "outputId": "43a7e6d5-18f2-4732-b677-ab8a449da32c",
        "execution": {
          "iopub.status.busy": "2024-04-28T01:38:51.134555Z",
          "iopub.execute_input": "2024-04-28T01:38:51.134964Z",
          "iopub.status.idle": "2024-04-28T01:38:51.141589Z",
          "shell.execute_reply.started": "2024-04-28T01:38:51.134934Z",
          "shell.execute_reply": "2024-04-28T01:38:51.140753Z"
        },
        "trusted": true
      },
      "execution_count": 16,
      "outputs": [
        {
          "output_type": "execute_result",
          "data": {
            "text/plain": [
              "'the young boy is calm'"
            ],
            "application/vnd.google.colaboratory.intrinsic+json": {
              "type": "string"
            }
          },
          "metadata": {},
          "execution_count": 16
        }
      ]
    },
    {
      "cell_type": "code",
      "source": [
        "class MyDataset(Dataset):\n",
        "  def __init__(self, metadata_df, dbx_client):\n",
        "\n",
        "    self.metadata_df = metadata_df\n",
        "    self.dbx_client = dbx_client\n",
        "\n",
        "\n",
        "  def __len__(self):\n",
        "    return len(self.metadata_df)\n",
        "\n",
        "\n",
        "  def __getitem__(self, idx):\n",
        "    item = self.metadata_df.iloc[idx]\n",
        "\n",
        "    audio_path = '/Akan/selected transcribed audios/audios/' + item['Full Filename'].lstrip('/')\n",
        "\n",
        "    # STREAM AUDIO\n",
        "    _, audio_res = self.dbx_client.files_download(path= audio_path)\n",
        "    signal, sample_rate = torchaudio.load(io.BytesIO(audio_res.content))\n",
        "\n",
        "    # # CONVERTING STEREO AUDIO TO MONO\n",
        "    if signal.shape[0] == 2:\n",
        "      signal = torch.mean(signal, dim=0, keepdim=True)\n",
        "\n",
        "    transcript = item['Transcriptions']\n",
        "\n",
        "\n",
        "    return signal, transcript"
      ],
      "metadata": {
        "id": "hcyE5h-Jqmat",
        "execution": {
          "iopub.status.busy": "2024-04-28T01:38:51.142903Z",
          "iopub.execute_input": "2024-04-28T01:38:51.143542Z",
          "iopub.status.idle": "2024-04-28T01:38:51.150811Z",
          "shell.execute_reply.started": "2024-04-28T01:38:51.143507Z",
          "shell.execute_reply": "2024-04-28T01:38:51.149996Z"
        },
        "trusted": true
      },
      "execution_count": 17,
      "outputs": []
    },
    {
      "cell_type": "code",
      "source": [
        "#FEATURE EXTRACTION\n",
        "\n",
        "train_audio_transforms = nn.Sequential(\n",
        "    torchaudio.transforms.MelSpectrogram(),\n",
        "    torchaudio.transforms.FrequencyMasking(freq_mask_param=30),\n",
        "    torchaudio.transforms.TimeMasking(time_mask_param=100)\n",
        ")\n",
        "valid_audio_transforms = torchaudio.transforms.MelSpectrogram()\n",
        "\n",
        "def data_processing(data, data_type=\"train\"):\n",
        "  spectrograms = []\n",
        "  labels = []\n",
        "  input_lengths = []\n",
        "  label_lengths = []\n",
        "\n",
        "  for (signal, label) in data:\n",
        "    if data_type == 'train':\n",
        "        spec = train_audio_transforms(signal).squeeze(0).transpose(0, 1)\n",
        "    else:\n",
        "        spec = valid_audio_transforms(signal).squeeze(0).transpose(0, 1)\n",
        "\n",
        "    # NORMALIZE WAVEFORM\n",
        "    spec = (spec - spec.mean()) / spec.std()\n",
        "    spectrograms.append(spec)\n",
        "    label = torch.Tensor(text_transform.text_to_int_seq(label.lower()))\n",
        "    labels.append(label)\n",
        "    input_lengths.append(spec.shape[0]//2)\n",
        "    label_lengths.append(len(label))\n",
        "\n",
        "  spectrograms = pad_sequence(spectrograms, batch_first=True).unsqueeze(1).transpose(2, 3)\n",
        "  labels = pad_sequence(labels, batch_first=True)\n",
        "\n",
        "  return spectrograms, labels, input_lengths, label_lengths"
      ],
      "metadata": {
        "id": "XROBn6qHoitU",
        "colab": {
          "base_uri": "https://localhost:8080/"
        },
        "outputId": "934405e1-87a3-4ee8-8834-0c5217262f38",
        "execution": {
          "iopub.status.busy": "2024-04-28T01:38:51.151898Z",
          "iopub.execute_input": "2024-04-28T01:38:51.152223Z",
          "iopub.status.idle": "2024-04-28T01:38:51.264686Z",
          "shell.execute_reply.started": "2024-04-28T01:38:51.152177Z",
          "shell.execute_reply": "2024-04-28T01:38:51.263697Z"
        },
        "trusted": true
      },
      "execution_count": 18,
      "outputs": [
        {
          "output_type": "stream",
          "name": "stderr",
          "text": [
            "/usr/local/lib/python3.10/dist-packages/torchaudio/functional/functional.py:584: UserWarning: At least one mel filterbank has all zero values. The value for `n_mels` (128) may be set too high. Or, the value for `n_freqs` (201) may be set too low.\n",
            "  warnings.warn(\n"
          ]
        }
      ]
    },
    {
      "cell_type": "code",
      "source": [
        "akan_dataset = MyDataset(transcribed_audios_df[:1000], dbx)\n",
        "# akan_dataset = MyDataset(transcribed_audios_df[:500], dbx)"
      ],
      "metadata": {
        "id": "0lLwJHWYrjmC",
        "execution": {
          "iopub.status.busy": "2024-04-28T01:38:51.265863Z",
          "iopub.execute_input": "2024-04-28T01:38:51.266136Z",
          "iopub.status.idle": "2024-04-28T01:38:51.270212Z",
          "shell.execute_reply.started": "2024-04-28T01:38:51.266112Z",
          "shell.execute_reply": "2024-04-28T01:38:51.269368Z"
        },
        "trusted": true
      },
      "execution_count": 19,
      "outputs": []
    },
    {
      "cell_type": "code",
      "source": [
        "# USING ONLY 4 INSTANCES OF THE DATASET FOR TESTING PURPOSES\n",
        "# ds = [akan_dataset.__getitem__(4+i) for i in range(4)]"
      ],
      "metadata": {
        "id": "NibVvkvAIc_k",
        "execution": {
          "iopub.status.busy": "2024-04-28T01:38:51.271860Z",
          "iopub.execute_input": "2024-04-28T01:38:51.272179Z",
          "iopub.status.idle": "2024-04-28T01:38:51.278623Z",
          "shell.execute_reply.started": "2024-04-28T01:38:51.272155Z",
          "shell.execute_reply": "2024-04-28T01:38:51.277737Z"
        },
        "trusted": true
      },
      "execution_count": 20,
      "outputs": []
    },
    {
      "cell_type": "code",
      "source": [
        "# data_processing(ds, 'train')"
      ],
      "metadata": {
        "id": "NKPfnhxvboxn",
        "execution": {
          "iopub.status.busy": "2024-04-28T01:38:51.279710Z",
          "iopub.execute_input": "2024-04-28T01:38:51.280343Z",
          "iopub.status.idle": "2024-04-28T01:38:51.286543Z",
          "shell.execute_reply.started": "2024-04-28T01:38:51.280310Z",
          "shell.execute_reply": "2024-04-28T01:38:51.285668Z"
        },
        "trusted": true
      },
      "execution_count": 21,
      "outputs": []
    },
    {
      "cell_type": "markdown",
      "source": [
        "#### **Splitting Dataset into Train, Test and Validation Set**"
      ],
      "metadata": {
        "id": "rOGE7bmEcEmf"
      }
    },
    {
      "cell_type": "code",
      "source": [
        "random_seed = 42\n",
        "torch.manual_seed(random_seed)"
      ],
      "metadata": {
        "colab": {
          "base_uri": "https://localhost:8080/"
        },
        "id": "cIsoVsQDAcEc",
        "outputId": "e2c862d0-91bb-4ea0-f177-c03904b2551b",
        "execution": {
          "iopub.status.busy": "2024-04-28T01:38:51.287706Z",
          "iopub.execute_input": "2024-04-28T01:38:51.288009Z",
          "iopub.status.idle": "2024-04-28T01:38:51.296427Z",
          "shell.execute_reply.started": "2024-04-28T01:38:51.287985Z",
          "shell.execute_reply": "2024-04-28T01:38:51.295596Z"
        },
        "trusted": true
      },
      "execution_count": 22,
      "outputs": [
        {
          "output_type": "execute_result",
          "data": {
            "text/plain": [
              "<torch._C.Generator at 0x7c772975a850>"
            ]
          },
          "metadata": {},
          "execution_count": 22
        }
      ]
    },
    {
      "cell_type": "code",
      "source": [
        "len(akan_dataset)"
      ],
      "metadata": {
        "execution": {
          "iopub.status.busy": "2024-04-28T01:38:51.297588Z",
          "iopub.execute_input": "2024-04-28T01:38:51.297857Z",
          "iopub.status.idle": "2024-04-28T01:38:51.303947Z",
          "shell.execute_reply.started": "2024-04-28T01:38:51.297817Z",
          "shell.execute_reply": "2024-04-28T01:38:51.302908Z"
        },
        "trusted": true,
        "colab": {
          "base_uri": "https://localhost:8080/"
        },
        "id": "-GlJaRCejaQE",
        "outputId": "62cebc46-e7ab-45d2-a56a-2d43d1c07b27"
      },
      "execution_count": 23,
      "outputs": [
        {
          "output_type": "execute_result",
          "data": {
            "text/plain": [
              "1000"
            ]
          },
          "metadata": {},
          "execution_count": 23
        }
      ]
    },
    {
      "cell_type": "code",
      "source": [
        "dataset_size = len(akan_dataset)\n",
        "train_size = int(0.5*dataset_size)\n",
        "val_size = int((dataset_size - train_size)*0.85)\n",
        "test_size = int(dataset_size - train_size - val_size)\n",
        "\n",
        "train_ds, test_ds, val_ds = random_split(akan_dataset, [train_size, test_size, val_size])"
      ],
      "metadata": {
        "id": "5dA5-qVxcZ78",
        "execution": {
          "iopub.status.busy": "2024-04-28T01:38:51.305061Z",
          "iopub.execute_input": "2024-04-28T01:38:51.305794Z",
          "iopub.status.idle": "2024-04-28T01:38:51.313010Z",
          "shell.execute_reply.started": "2024-04-28T01:38:51.305765Z",
          "shell.execute_reply": "2024-04-28T01:38:51.312119Z"
        },
        "trusted": true
      },
      "execution_count": 24,
      "outputs": []
    },
    {
      "cell_type": "code",
      "source": [
        "# DECODES THE OUTPUT OF THE PREDICTION\n",
        "def GreedyDecoder(output, labels, label_lengths, blank_label=64, collapse_repeated=True):\n",
        "    arg_maxes = torch.argmax(output, dim=2)\n",
        "    decodes = []\n",
        "    targets = []\n",
        "    for i, args in enumerate(arg_maxes):\n",
        "        decode = []\n",
        "        targets.append(text_transform.int_to_text(labels[i][:label_lengths[i]].tolist()))\n",
        "        for j, index in enumerate(args):\n",
        "            if index != blank_label:\n",
        "                if collapse_repeated and j != 0 and index == args[j -1]:\n",
        "                    continue\n",
        "                decode.append(index.item())\n",
        "        decodes.append(text_transform.int_to_text(decode))\n",
        "    return decodes, targets"
      ],
      "metadata": {
        "id": "cUeN5VKScD6O",
        "execution": {
          "iopub.status.busy": "2024-04-28T01:38:51.322125Z",
          "iopub.execute_input": "2024-04-28T01:38:51.322465Z",
          "iopub.status.idle": "2024-04-28T01:38:51.329723Z",
          "shell.execute_reply.started": "2024-04-28T01:38:51.322429Z",
          "shell.execute_reply": "2024-04-28T01:38:51.328827Z"
        },
        "trusted": true
      },
      "execution_count": 26,
      "outputs": []
    },
    {
      "cell_type": "markdown",
      "source": [
        "## **Model Building**"
      ],
      "metadata": {
        "id": "EyzV5BKDc_ym"
      }
    },
    {
      "cell_type": "code",
      "source": [
        "class BahdanauAttention(nn.Module):\n",
        "    def __init__(self, hidden_size):\n",
        "        super(BahdanauAttention, self).__init__()\n",
        "        self.query_layer = nn.Linear(hidden_size, hidden_size)\n",
        "        self.key_layer = nn.Linear(hidden_size, hidden_size)\n",
        "        self.energy_layer = nn.Linear(hidden_size, 1)\n",
        "\n",
        "    def forward(self, query, key, value):\n",
        "        query = self.query_layer(query)\n",
        "        key = self.key_layer(key)\n",
        "\n",
        "        # Calculate energy scores\n",
        "        energy = self.energy_layer(torch.tanh(query[:, None, :] + key))\n",
        "        attention = torch.softmax(energy, dim=1)\n",
        "\n",
        "        # Calculate context vector\n",
        "        context = torch.sum(attention * value[:, None, :], dim=1)\n",
        "        return context, attention"
      ],
      "metadata": {
        "id": "N7_gDIhpy32F",
        "execution": {
          "iopub.status.busy": "2024-04-28T01:38:51.331006Z",
          "iopub.execute_input": "2024-04-28T01:38:51.331285Z",
          "iopub.status.idle": "2024-04-28T01:38:51.341279Z",
          "shell.execute_reply.started": "2024-04-28T01:38:51.331262Z",
          "shell.execute_reply": "2024-04-28T01:38:51.340579Z"
        },
        "trusted": true
      },
      "execution_count": 27,
      "outputs": []
    },
    {
      "cell_type": "code",
      "source": [
        "class CNNLayerNorm(nn.Module):\n",
        "    \"\"\"Layer normalization built for cnns input\"\"\"\n",
        "    def __init__(self, n_feats):\n",
        "        super(CNNLayerNorm, self).__init__()\n",
        "        self.layer_norm = nn.LayerNorm(n_feats)\n",
        "\n",
        "    def forward(self, x):\n",
        "      # x (batch, channel, feature, time)\n",
        "      x = x.transpose(2, 3).contiguous() # (batch, channel, time, feature)\n",
        "      x = self.layer_norm(x)\n",
        "      return x.transpose(2, 3).contiguous() # (batch, channel, feature, time)"
      ],
      "metadata": {
        "id": "YNJGR_z0dbsX",
        "execution": {
          "iopub.status.busy": "2024-04-28T01:38:51.346695Z",
          "iopub.execute_input": "2024-04-28T01:38:51.346950Z",
          "iopub.status.idle": "2024-04-28T01:38:51.353240Z",
          "shell.execute_reply.started": "2024-04-28T01:38:51.346928Z",
          "shell.execute_reply": "2024-04-28T01:38:51.352249Z"
        },
        "trusted": true
      },
      "execution_count": 28,
      "outputs": []
    },
    {
      "cell_type": "code",
      "source": [
        "class ResidualCNN(nn.Module):\n",
        "    def __init__(self, in_channels, out_channels, kernel, stride, dropout, n_feats):\n",
        "        super(ResidualCNN, self).__init__()\n",
        "\n",
        "        self.cnn1 = nn.Conv2d(in_channels, out_channels, kernel,\n",
        "                              stride, padding=kernel//2)\n",
        "        self.cnn2 = nn.Conv2d(out_channels, out_channels, kernel,\n",
        "                              stride, padding=kernel//2)\n",
        "        self.dropout1 = nn.Dropout(dropout)\n",
        "        self.dropout2 = nn.Dropout(dropout)\n",
        "        self.layer_norm1 = CNNLayerNorm(n_feats)\n",
        "        self.layer_norm2 = CNNLayerNorm(n_feats)\n",
        "\n",
        "    def forward(self, x):\n",
        "        residual = x  # (batch, channel, feature, time)\n",
        "#         print(f'x before transformation in rescnn: {x.shape}')\n",
        "        x = self.layer_norm1(x)\n",
        "        x = F.gelu(x)\n",
        "        x = self.dropout1(x)\n",
        "        x = self.cnn1(x)\n",
        "        x = self.layer_norm2(x)\n",
        "        x = F.gelu(x)\n",
        "        x = self.dropout2(x)\n",
        "        x = self.cnn2(x)\n",
        "        x += residual\n",
        "#         print(f'x after transformation in rescnn: {x.shape}')\n",
        "        return x # (batch, channel, feature, time)"
      ],
      "metadata": {
        "id": "2xQhsAvnc6vi",
        "execution": {
          "iopub.status.busy": "2024-04-28T01:38:51.354272Z",
          "iopub.execute_input": "2024-04-28T01:38:51.354556Z",
          "iopub.status.idle": "2024-04-28T01:38:51.363710Z",
          "shell.execute_reply.started": "2024-04-28T01:38:51.354534Z",
          "shell.execute_reply": "2024-04-28T01:38:51.362696Z"
        },
        "trusted": true
      },
      "execution_count": 29,
      "outputs": []
    },
    {
      "cell_type": "code",
      "source": [
        "class BidirectionalLSTM(nn.Module):\n",
        "\n",
        "    def __init__(self, rnn_dim, hidden_size, dropout, batch_first):\n",
        "        super(BidirectionalLSTM, self).__init__()\n",
        "\n",
        "        self.BiLSTM = nn.LSTM(\n",
        "            input_size=rnn_dim, hidden_size=hidden_size,\n",
        "            num_layers=1, batch_first=batch_first, bidirectional=True)\n",
        "        self.layer_norm = nn.LayerNorm(rnn_dim)\n",
        "        self.dropout = nn.Dropout(dropout)\n",
        "\n",
        "    def forward(self, x):\n",
        "        x = self.layer_norm(x)\n",
        "        x = F.gelu(x)\n",
        "        x, _ = self.BiLSTM(x)\n",
        "        x = self.dropout(x)\n",
        "        return x\n",
        "\n",
        "class BidirectionalGRU(nn.Module):\n",
        "\n",
        "    def __init__(self, rnn_dim, hidden_size, dropout, batch_first):\n",
        "        super(BidirectionalGRU, self).__init__()\n",
        "\n",
        "        self.BiGRU = nn.GRU(\n",
        "            input_size=rnn_dim, hidden_size=hidden_size,\n",
        "            num_layers=1, batch_first=batch_first, bidirectional=True)\n",
        "        self.layer_norm = nn.LayerNorm(rnn_dim)\n",
        "        self.dropout = nn.Dropout(dropout)\n",
        "\n",
        "    def forward(self, x):\n",
        "        x = self.layer_norm(x)\n",
        "        x = F.gelu(x)\n",
        "        x, _ = self.BiGRU(x)\n",
        "        x = self.dropout(x)\n",
        "        return x\n",
        "\n",
        "class SpeechRecognitionModel(nn.Module):\n",
        "\n",
        "    def __init__(self, n_cnn_layers, n_rnn_layers, rnn_dim, n_class, n_feats, stride=2, dropout=0.1):\n",
        "        super(SpeechRecognitionModel, self).__init__()\n",
        "        n_feats = n_feats//2\n",
        "        self.cnn = nn.Conv2d(1, 32, 3, stride=stride, padding=3//2) # cnn for extracting hierarchical features\n",
        "\n",
        "        # n residual cnn layers with filter size of 32\n",
        "        self.rescnn_layers = nn.Sequential(*[\n",
        "            ResidualCNN(32, 32, kernel=3, stride=1, dropout=dropout, n_feats=n_feats)\n",
        "            for _ in range(n_cnn_layers)\n",
        "        ])\n",
        "        self.fully_connected = nn.Linear(n_feats*32, rnn_dim)\n",
        "        self.birnn_layers1 = nn.Sequential(*[\n",
        "            BidirectionalLSTM(rnn_dim=rnn_dim if i==0 else rnn_dim*2,\n",
        "                             hidden_size=rnn_dim, dropout=dropout, batch_first=i==0)\n",
        "            for i in range(n_rnn_layers)\n",
        "        ])\n",
        "        self.birnn_layers2 = nn.Sequential(*[\n",
        "            BidirectionalGRU(rnn_dim=rnn_dim*2,\n",
        "                             hidden_size=rnn_dim, dropout=dropout, batch_first=i==0)\n",
        "            for i in range(n_rnn_layers)\n",
        "        ])\n",
        "\n",
        "        self.attention = BahdanauAttention(hidden_size=rnn_dim * 2)\n",
        "        self.classifier = nn.Sequential(\n",
        "            nn.Linear(rnn_dim*2, rnn_dim),\n",
        "            nn.GELU(),\n",
        "            nn.Dropout(dropout),\n",
        "            nn.Linear(rnn_dim, n_class)\n",
        "        )\n",
        "\n",
        "    def forward(self, x):\n",
        "      x = self.cnn(x)\n",
        "      x = self.rescnn_layers(x)\n",
        "      sizes = x.size()\n",
        "      x = x.view(sizes[0], sizes[1] * sizes[2], sizes[3])  # (batch, feature, time)\n",
        "      x = x.transpose(1, 2) # (batch, time, feature)\n",
        "      x = self.fully_connected(x)\n",
        "      x = self.birnn_layers1(x)\n",
        "      x = self.birnn_layers2(x)\n",
        "      context, attention_weights = self.attention(x, x, x)\n",
        "      x = self.classifier(context)\n",
        "      return x"
      ],
      "metadata": {
        "id": "7veac0nfbkoA",
        "execution": {
          "iopub.status.busy": "2024-04-28T01:38:51.365011Z",
          "iopub.execute_input": "2024-04-28T01:38:51.365283Z",
          "iopub.status.idle": "2024-04-28T01:38:51.382990Z",
          "shell.execute_reply.started": "2024-04-28T01:38:51.365261Z",
          "shell.execute_reply": "2024-04-28T01:38:51.382177Z"
        },
        "trusted": true
      },
      "execution_count": 30,
      "outputs": []
    },
    {
      "cell_type": "code",
      "source": [
        "BATCH_MULTIPLIER = 8"
      ],
      "metadata": {
        "execution": {
          "iopub.status.busy": "2024-04-28T01:38:51.384101Z",
          "iopub.execute_input": "2024-04-28T01:38:51.384791Z",
          "iopub.status.idle": "2024-04-28T01:38:51.392390Z",
          "shell.execute_reply.started": "2024-04-28T01:38:51.384758Z",
          "shell.execute_reply": "2024-04-28T01:38:51.391619Z"
        },
        "trusted": true,
        "id": "Lj_isS4djaQH"
      },
      "execution_count": 31,
      "outputs": []
    },
    {
      "cell_type": "code",
      "source": [
        "from google.colab import drive\n",
        "drive.mount('/content/drive')"
      ],
      "metadata": {
        "colab": {
          "base_uri": "https://localhost:8080/"
        },
        "id": "uQu2cR6Lm_K7",
        "outputId": "ab16937e-92b5-4af6-cca1-1ea9397c6825"
      },
      "execution_count": 32,
      "outputs": [
        {
          "output_type": "stream",
          "name": "stdout",
          "text": [
            "Mounted at /content/drive\n"
          ]
        }
      ]
    },
    {
      "cell_type": "code",
      "source": [
        "checkpoint_path = '/content/drive/My Drive/ASR/'"
      ],
      "metadata": {
        "id": "0qhlhS9FnvcU"
      },
      "execution_count": 33,
      "outputs": []
    },
    {
      "cell_type": "code",
      "source": [
        "def train(model, device, train_loader, criterion, optimizer, epoch,valid_loader,best_loss,curr_patience,best_val_loss):\n",
        "    model.train()\n",
        "    data_len = len(train_loader)\n",
        "    train_loss = 0\n",
        "    avg_train_loss = 0\n",
        "    correct_predictions = 0\n",
        "    total_predictions = 0\n",
        "    scaler = GradScaler()\n",
        "\n",
        "\n",
        "    optimizer.zero_grad()\n",
        "    for batch_idx, _data in enumerate(train_loader):\n",
        "        spectrograms, labels, input_lengths, label_lengths = _data\n",
        "        spectrograms, labels = spectrograms.to(device), labels.to(device)\n",
        "\n",
        "        # Enable autocast for the forward pass, automatically casting to mixed precision\n",
        "        with autocast():\n",
        "            output = model(spectrograms)  # (batch, time, n_class)\n",
        "            output = F.log_softmax(output, dim=2)\n",
        "            output = output.transpose(0, 1) # (time, batch, n_class)\n",
        "            loss = criterion(output, labels, input_lengths, label_lengths)\n",
        "\n",
        "        scaler.scale(loss).backward()\n",
        "        train_loss += loss.item()\n",
        "\n",
        "        if (batch_idx + 1) % BATCH_MULTIPLIER == 0:\n",
        "            scaler.step(optimizer)\n",
        "            scaler.update()\n",
        "            optimizer.zero_grad()\n",
        "            torch.cuda.empty_cache()\n",
        "\n",
        "\n",
        "        if batch_idx % 100 == 0 or batch_idx == data_len:\n",
        "            print('Train Epoch: {} [{}/{} ({:.0f}%)]\\tLoss: {:.6f}'.format(\n",
        "                epoch, batch_idx * len(spectrograms), data_len,\n",
        "                100. * batch_idx / len(train_loader), loss.item()))\n",
        "\n",
        "\n",
        "    avg_train_loss = train_loss / len(train_loader.dataset)\n",
        "    avg_wer, avg_val_loss = valid(model, device, valid_loader, criterion, epoch)\n",
        "\n",
        "    try:\n",
        "      #checking if current WER is better\n",
        "      if avg_wer < best_loss:\n",
        "          curr_patience=0\n",
        "          best_loss = avg_wer\n",
        "          #save model dicts\n",
        "          torch.save({\n",
        "              'epoch': epoch,\n",
        "              'model_state_dict': model.state_dict(),\n",
        "              'optimizer_state_dict': optimizer.state_dict(),\n",
        "              'avg_wer':avg_wer\n",
        "                }, '/content/drive/My Drive/ASR/model_path_wer.pth.tar')\n",
        "\n",
        "      else:\n",
        "          curr_patience+=1\n",
        "          print(\"...No improvement in validation WER from {}...\".format(best_loss))\n",
        "      if avg_val_loss < best_val_loss:\n",
        "          print(\"Improvement in main loss. Saving model weights to model_path_loss \")\n",
        "          curr_patience=0\n",
        "          best_val_loss = avg_val_loss\n",
        "          #save model dicts\n",
        "          torch.save({\n",
        "                'epoch': epoch,\n",
        "                'model_state_dict': model.state_dict(),\n",
        "                'optimizer_state_dict': optimizer.state_dict(),\n",
        "                'average_val_loss':avg_val_loss\n",
        "                }, '/content/drive/My Drive/ASR/model_path_loss.pth.tar')\n",
        "    except Exception as e:\n",
        "      print(f\"Failed to save the model due to {e}\")\n",
        "\n",
        "    return best_loss, curr_patience, best_val_loss, avg_train_loss,avg_wer, avg_val_loss\n",
        "\n",
        "\n",
        "\n",
        "def valid(model, device, val_loader, criterion, epoch):\n",
        "    print('\\nEvaluating...')\n",
        "    model.eval()\n",
        "    val_loss = 0\n",
        "    val_cer, val_wer = [], []\n",
        "    val_losses = []\n",
        "    correct_predictions = 0\n",
        "    total_predictions = 0\n",
        "\n",
        "\n",
        "    with torch.no_grad():\n",
        "      for i, _data in enumerate(val_loader):\n",
        "        spectrograms, labels, input_lengths, label_lengths = _data\n",
        "        spectrograms, labels = spectrograms.to(device), labels.to(device)\n",
        "\n",
        "        output = model(spectrograms)  # (batch, time, n_class)\n",
        "        output = F.log_softmax(output, dim=2)\n",
        "        output = output.transpose(0, 1) # (time, batch, n_class)\n",
        "\n",
        "        loss = criterion(output, labels, input_lengths, label_lengths)\n",
        "        val_loss += loss.item()\n",
        "\n",
        "        decoded_preds, decoded_targets = GreedyDecoder(output.transpose(0, 1), labels, label_lengths)\n",
        "        for pred, target in zip(decoded_preds, decoded_targets):\n",
        "            if pred == target:\n",
        "                correct_predictions += 1\n",
        "            total_predictions += 1\n",
        "\n",
        "        for j in range(len(decoded_preds)):\n",
        "            val_cer.append(cer(decoded_targets[j], decoded_preds[j]))\n",
        "            val_wer.append(wer(decoded_targets[j], decoded_preds[j]))\n",
        "\n",
        "    print(f'decoded_preds: {decoded_preds}')\n",
        "    valid_accuracy = 100 * correct_predictions / total_predictions\n",
        "    avg_val_loss = val_loss/len(val_loader)\n",
        "    avg_cer = sum(val_cer)/len(val_cer)\n",
        "    avg_wer = sum(val_wer)/len(val_wer)\n",
        "\n",
        "\n",
        "    print('Valid set: Average loss: {:.4f}, Accuracy: {:.4f}, Average CER: {:4f} Average WER: {:.4f}\\n'.format(avg_val_loss, valid_accuracy, avg_cer, avg_wer))\n",
        "    return avg_wer, avg_val_loss\n",
        "\n",
        "\n",
        "# def test(model, device, test_loader, criterion, epoch):\n",
        "#     model.eval()\n",
        "#     test_loss = 0\n",
        "#     test_cer, test_wer = [], []\n",
        "\n",
        "#     with torch.no_grad():\n",
        "#         for i, _data in enumerate(test_loader):\n",
        "#             spectrograms, labels, input_lengths, label_lengths = _data\n",
        "#             spectrograms, labels = spectrograms.to(device), labels.to(device)\n",
        "\n",
        "#             output = model(spectrograms)  # (batch, time, n_class)\n",
        "#             output = F.log_softmax(output, dim=2)\n",
        "#             output = output.transpose(0, 1) # (time, batch, n_class)\n",
        "\n",
        "#             loss = criterion(output, labels, input_lengths, label_lengths)\n",
        "#             test_loss += loss.item() / len(test_loader)\n",
        "\n",
        "#             decoded_preds, decoded_targets = GreedyDecoder(output.transpose(0, 1), labels, label_lengths)\n",
        "#             for j in range(len(decoded_preds)):\n",
        "#                 test_cer.append(cer(decoded_targets[j], decoded_preds[j]))\n",
        "#                 test_wer.append(wer(decoded_targets[j], decoded_preds[j]))\n",
        "\n",
        "\n",
        "#     avg_cer = sum(test_cer)/len(test_cer)\n",
        "#     avg_wer = sum(test_wer)/len(test_wer)\n",
        "\n",
        "\n",
        "#     print('Test set: Average loss: {:.4f}, Average CER: {:4f} Average WER: {:.4f}\\n'.format(test_loss, avg_cer, avg_wer))\n"
      ],
      "metadata": {
        "id": "BIl_lxModpiS",
        "_kg_hide-output": true,
        "execution": {
          "iopub.status.busy": "2024-04-28T01:39:41.886269Z",
          "iopub.execute_input": "2024-04-28T01:39:41.886656Z",
          "iopub.status.idle": "2024-04-28T01:39:41.910061Z",
          "shell.execute_reply.started": "2024-04-28T01:39:41.886612Z",
          "shell.execute_reply": "2024-04-28T01:39:41.909040Z"
        },
        "trusted": true
      },
      "execution_count": 34,
      "outputs": []
    },
    {
      "cell_type": "code",
      "source": [
        "def plot_metrics(TRAIN_LOSSES,VALID_LOSSES,VALID_WER):\n",
        "    epochs = range(1, len(TRAIN_LOSSES) + 1)\n",
        "    plt.figure(figsize=(12, 6))\n",
        "    plt.subplot(1, 2, 1)\n",
        "    plt.plot(epochs, TRAIN_LOSSES, label='Training Loss')\n",
        "    plt.plot(epochs, VALID_LOSSES, label='Validation Loss')\n",
        "    plt.title('Training and Validation Loss')\n",
        "    plt.xlabel('Epoch')\n",
        "    plt.ylabel('Loss')\n",
        "    plt.legend()\n",
        "\n",
        "    plt.subplot(1, 2, 2)\n",
        "    plt.plot(epochs, VALID_WER, label='Validation WER')\n",
        "    plt.title('Validation Word Error Rate')\n",
        "    plt.xlabel('Epoch')\n",
        "    plt.ylabel('WER')\n",
        "    plt.legend()\n",
        "\n",
        "    plt.tight_layout()\n",
        "    plt.show()"
      ],
      "metadata": {
        "id": "H2wo6CF4uO7Y",
        "execution": {
          "iopub.status.busy": "2024-04-28T01:39:43.503703Z",
          "iopub.execute_input": "2024-04-28T01:39:43.504615Z",
          "iopub.status.idle": "2024-04-28T01:39:43.512294Z",
          "shell.execute_reply.started": "2024-04-28T01:39:43.504580Z",
          "shell.execute_reply": "2024-04-28T01:39:43.511119Z"
        },
        "trusted": true
      },
      "execution_count": 35,
      "outputs": []
    },
    {
      "cell_type": "code",
      "source": [
        "def main(learning_rate, batch_size, epochs, train_ds, valid_ds, test_ds, resume=False):\n",
        "    hparams = {\n",
        "        \"n_cnn_layers\": 7,\n",
        "        \"n_rnn_layers\": 5,\n",
        "        \"rnn_dim\": 512,\n",
        "        \"n_class\": 65,\n",
        "        \"n_feats\": 128,\n",
        "        \"stride\":2,\n",
        "        \"dropout\": 0.1,\n",
        "        \"learning_rate\": learning_rate,\n",
        "        \"batch_size\": batch_size,\n",
        "        \"epochs\": epochs\n",
        "    }\n",
        "\n",
        "\n",
        "    use_cuda = torch.cuda.is_available()\n",
        "    torch.manual_seed(7)\n",
        "    device = torch.device(\"cuda\" if use_cuda else \"cpu\")\n",
        "\n",
        "\n",
        "    # Creating DataLoaders for the Train, Test and Validation Datasets\n",
        "    kwargs = {'pin_memory': True} if use_cuda else {}\n",
        "    train_loader = DataLoader(dataset=train_ds,\n",
        "                                batch_size=hparams['batch_size'],\n",
        "                                shuffle=True,\n",
        "                                collate_fn=lambda x: data_processing(x,'train'),\n",
        "                                **kwargs)\n",
        "    valid_loader = DataLoader(dataset=val_ds,\n",
        "                                batch_size=hparams['batch_size'],\n",
        "                                shuffle=False,\n",
        "                                collate_fn=lambda x: data_processing(x, 'valid'),\n",
        "                                **kwargs)\n",
        "    test_loader = DataLoader(dataset=test_ds,\n",
        "                                batch_size=hparams['batch_size'],\n",
        "                                shuffle=False,\n",
        "                                collate_fn=lambda x: data_processing(x, 'test'),\n",
        "                                **kwargs)\n",
        "\n",
        "    model = SpeechRecognitionModel(\n",
        "    hparams['n_cnn_layers'], hparams['n_rnn_layers'], hparams['rnn_dim'],\n",
        "    hparams['n_class'], hparams['n_feats'], hparams['stride'], hparams['dropout']\n",
        "    ).to(device)\n",
        "\n",
        "\n",
        "    optimizer = optim.Adam(model.parameters(), hparams['learning_rate'])\n",
        "    criterion = nn.CTCLoss(blank=64, zero_infinity=True).to(device)\n",
        "\n",
        "    start_epoch = 1\n",
        "    best_loss = float('inf')\n",
        "    best_val_loss = float('inf')\n",
        "    curr_patience = 0\n",
        "    patience = 5\n",
        "\n",
        "    if resume:\n",
        "        checkpoint = torch.load('/content/drive/My Drive/ASR/model_path_wer.pth.tar')\n",
        "        model.load_state_dict(checkpoint['model_state_dict'])\n",
        "        optimizer.load_state_dict(checkpoint['optimizer_state_dict'])\n",
        "        start_epoch = checkpoint['epoch'] + 1\n",
        "        best_val_loss = checkpoint['val_loss']\n",
        "\n",
        "\n",
        "#     checkpoint = torch.load(model_path_loss = '/kaggle/working/model.pth.tar')\n",
        "#     model.load_state_dict(checkpoint['model_state_dict'])\n",
        "#     optimizer.load_state_dict(checkpoint['optimizer_state_dict'])\n",
        "#     epoch_saved = checkpoint['epoch']\n",
        "#     best_test_loss = checkpoint['val_loss']\n",
        "\n",
        "\n",
        "    train_losses = []\n",
        "    val_losses = []\n",
        "    val_wer = []\n",
        "    for epoch in range(start_epoch, epochs + 1):\n",
        "        best_loss, curr_patience, best_val_loss, tra_losses, valid_wer, valid_losses = train(model, device, train_loader, criterion, optimizer,\n",
        "                                                                                            epoch, valid_loader, best_loss, curr_patience, best_val_loss)\n",
        "        train_losses.append(tra_losses)\n",
        "        val_losses.append(valid_losses)\n",
        "        val_wer.append(valid_wer)\n",
        "\n",
        "        if curr_patience >= patience:\n",
        "            print(\"Early stopping with patience of {}\".format(patience))\n",
        "            break\n",
        "    #test(model, device, test_loader, criterion, epoch)\n",
        "\n",
        "\n",
        "    # Plot loss curves\n",
        "    plot_metrics(train_losses, val_losses, val_wer)"
      ],
      "metadata": {
        "id": "2lWQIJ8T9WQr",
        "execution": {
          "iopub.status.busy": "2024-04-28T01:39:44.205808Z",
          "iopub.execute_input": "2024-04-28T01:39:44.206157Z",
          "iopub.status.idle": "2024-04-28T01:39:44.221248Z",
          "shell.execute_reply.started": "2024-04-28T01:39:44.206130Z",
          "shell.execute_reply": "2024-04-28T01:39:44.220153Z"
        },
        "trusted": true
      },
      "execution_count": 36,
      "outputs": []
    },
    {
      "cell_type": "code",
      "source": [
        "learning_rate = 0.001\n",
        "batch_size = 4\n",
        "epochs = 10"
      ],
      "metadata": {
        "execution": {
          "iopub.status.busy": "2024-04-28T01:39:57.548384Z",
          "iopub.execute_input": "2024-04-28T01:39:57.548756Z",
          "iopub.status.idle": "2024-04-28T01:39:57.553490Z",
          "shell.execute_reply.started": "2024-04-28T01:39:57.548727Z",
          "shell.execute_reply": "2024-04-28T01:39:57.552418Z"
        },
        "trusted": true,
        "id": "3q8RL2mHjaQJ"
      },
      "execution_count": 37,
      "outputs": []
    },
    {
      "cell_type": "code",
      "source": [
        "main(learning_rate, batch_size, epochs, train_ds, val_ds, test_ds)"
      ],
      "metadata": {
        "execution": {
          "iopub.status.busy": "2024-04-28T01:39:58.696145Z",
          "iopub.execute_input": "2024-04-28T01:39:58.697013Z"
        },
        "trusted": true,
        "colab": {
          "base_uri": "https://localhost:8080/",
          "height": 1000
        },
        "id": "SiZV5QepjaQJ",
        "outputId": "e2bc6a90-f2c2-4ca6-8349-8141dcb7a60d"
      },
      "execution_count": 38,
      "outputs": [
        {
          "output_type": "stream",
          "name": "stdout",
          "text": [
            "Train Epoch: 1 [0/125 (0%)]\tLoss: 43.235374\n",
            "Train Epoch: 1 [400/125 (80%)]\tLoss: 48.884247\n",
            "\n",
            "Evaluating...\n",
            "decoded_preds: ['ℇb…c…=…ℇ…Ɛb…c…j7<unk>c<unk>…c…du…ℇ…ℇbc…kℇ7…uc7…b…bℇ<unk>bcℇ…b…c…bℇ…bc…cℇ…ℇc…7…c…c…7…j…<unk>k…c…ℇ…c…u…ux…Ɛ…b<unk>…c…c<unk>…k…bjbc…ℇ…b…=d7cb…7c…)…ℇ…u…xℇ…x…c7…)…ℇ…u…b…cℇc…7…b…c…u…u…c…u…c…ucu…7=…b…7=7…=…ℇuℇƐb…b…bj…jb<unk>…Ɛc…c7…ℇ…Ɛc…c…c…c…c…c…<unk>Ɛc…!7…7…c…x…u=u=kℇxℇ…<unk>=b…u…uc…c…=…u…7u<unk>ℇc…u…7u7u…u…u…c7cu…c…u…c…ℇ…7…ℇu…c…jℇ…bc…ℇ…u…u…u…=ℇ…<unk>…<unk>…c…<unk>c<unk>…<unk>…j7…ℇ…c<unk>7Ɛc7…c…ℇ7c…u…b…ub7u7…ℇ…ℇ…ududuℇcℇc…ℇuℇ…ℇ…ℇ…c…x…ucu…c7…7…uc=…uℇ…u…<unk>jc…c7…7…ℇ…7ℇ=ℇ…<unk>…c…c…c…<unk>7c7…c…c…ℇ…b…']\n",
            "Valid set: Average loss: 50.2398, Accuracy: 0.0000, Average CER: 0.000000 Average WER: 1.0000\n",
            "\n",
            "Failed to save the model due to Parent directory /content/drive/My Drive/ASR does not exist.\n",
            "Train Epoch: 2 [0/125 (0%)]\tLoss: 61.949299\n",
            "Train Epoch: 2 [400/125 (80%)]\tLoss: 44.312008\n",
            "\n",
            "Evaluating...\n",
            "decoded_preds: ['ℇb…c…=…ℇ…Ɛb…c…j7<unk>c<unk>…c…du…ℇ…ℇbc…kℇ7…uc7…b…bℇ<unk>bcℇ…b…c…bℇ…bc…cℇ…ℇc…7…c…c…7…j…<unk>k…c…ℇ…c…u…ux…Ɛ…b<unk>…c…c<unk>…k…bjbc…ℇ…b…=d7cb…7c…)…ℇ…u…xℇ…x…c7…)…ℇ…u…b…cℇc…7…b…c…u…u…c…u…c…ucu…7=…b…7=7…=…ℇuℇƐb…b…bj…jb<unk>…Ɛc…c7…ℇ…Ɛc…c…c…c…c…c…<unk>Ɛc…!7…7…c…x…u=u=kℇxℇ…<unk>=b…u…uc…c…=…u…7u<unk>ℇc…u…7u7u…u…u…c7cu…c…u…c…ℇ…7…ℇu…c…jℇ…bc…ℇ…u…u…u…=ℇ…<unk>…<unk>…c…<unk>c<unk>…<unk>…j7…ℇ…c<unk>7Ɛc7…c…ℇ7c…u…b…ub7u7…ℇ…ℇ…ududuℇcℇc…ℇuℇ…ℇ…ℇ…c…x…ucu…c7…7…uc=…uℇ…u…<unk>jc…c7…7…ℇ…7ℇ=ℇ…<unk>…c…c…c…<unk>7c7…c…c…ℇ…b…']\n",
            "Valid set: Average loss: 50.2398, Accuracy: 0.0000, Average CER: 0.000000 Average WER: 1.0000\n",
            "\n",
            "...No improvement in validation WER from 1.0...\n",
            "Improvement in main loss. Saving model weights to model_path_loss \n",
            "Failed to save the model due to Parent directory /content/drive/My Drive/ASR does not exist.\n",
            "Train Epoch: 3 [0/125 (0%)]\tLoss: 48.252491\n",
            "Train Epoch: 3 [400/125 (80%)]\tLoss: 52.411125\n",
            "\n",
            "Evaluating...\n",
            "decoded_preds: ['ℇb…c…=…ℇ…Ɛb…c…j7<unk>c<unk>…c…du…ℇ…ℇbc…kℇ7…uc7…b…bℇ<unk>bcℇ…b…c…bℇ…bc…cℇ…ℇc…7…c…c…7…j…<unk>k…c…ℇ…c…u…ux…Ɛ…b<unk>…c…c<unk>…k…bjbc…ℇ…b…=d7cb…7c…)…ℇ…u…xℇ…x…c7…)…ℇ…u…b…cℇc…7…b…c…u…u…c…u…c…ucu…7=…b…7=7…=…ℇuℇƐb…b…bj…jb<unk>…Ɛc…c7…ℇ…Ɛc…c…c…c…c…c…<unk>Ɛc…!7…7…c…x…u=u=kℇxℇ…<unk>=b…u…uc…c…=…u…7u<unk>ℇc…u…7u7u…u…u…c7cu…c…u…c…ℇ…7…ℇu…c…jℇ…bc…ℇ…u…u…u…=ℇ…<unk>…<unk>…c…<unk>c<unk>…<unk>…j7…ℇ…c<unk>7Ɛc7…c…ℇ7c…u…b…ub7u7…ℇ…ℇ…ududuℇcℇc…ℇuℇ…ℇ…ℇ…c…x…ucu…c7…7…uc=…uℇ…u…<unk>jc…c7…7…ℇ…7ℇ=ℇ…<unk>…c…c…c…<unk>7c7…c…c…ℇ…b…']\n",
            "Valid set: Average loss: 50.2398, Accuracy: 0.0000, Average CER: 0.000000 Average WER: 1.0000\n",
            "\n",
            "...No improvement in validation WER from 1.0...\n",
            "Train Epoch: 4 [0/125 (0%)]\tLoss: 49.414246\n",
            "Train Epoch: 4 [400/125 (80%)]\tLoss: 43.776054\n",
            "\n",
            "Evaluating...\n",
            "decoded_preds: ['ℇb…c…=…ℇ…Ɛb…c…j7<unk>c<unk>…c…du…ℇ…ℇbc…kℇ7…uc7…b…bℇ<unk>bcℇ…b…c…bℇ…bc…cℇ…ℇc…7…c…c…7…j…<unk>k…c…ℇ…c…u…ux…Ɛ…b<unk>…c…c<unk>…k…bjbc…ℇ…b…=d7cb…7c…)…ℇ…u…xℇ…x…c7…)…ℇ…u…b…cℇc…7…b…c…u…u…c…u…c…ucu…7=…b…7=7…=…ℇuℇƐb…b…bj…jb<unk>…Ɛc…c7…ℇ…Ɛc…c…c…c…c…c…<unk>Ɛc…!7…7…c…x…u=u=kℇxℇ…<unk>=b…u…uc…c…=…u…7u<unk>ℇc…u…7u7u…u…u…c7cu…c…u…c…ℇ…7…ℇu…c…jℇ…bc…ℇ…u…u…u…=ℇ…<unk>…<unk>…c…<unk>c<unk>…<unk>…j7…ℇ…c<unk>7Ɛc7…c…ℇ7c…u…b…ub7u7…ℇ…ℇ…ududuℇcℇc…ℇuℇ…ℇ…ℇ…c…x…ucu…c7…7…uc=…uℇ…u…<unk>jc…c7…7…ℇ…7ℇ=ℇ…<unk>…c…c…c…<unk>7c7…c…c…ℇ…b…']\n",
            "Valid set: Average loss: 50.2398, Accuracy: 0.0000, Average CER: 0.000000 Average WER: 1.0000\n",
            "\n",
            "...No improvement in validation WER from 1.0...\n",
            "Train Epoch: 5 [0/125 (0%)]\tLoss: 50.061550\n",
            "Train Epoch: 5 [400/125 (80%)]\tLoss: 43.938690\n",
            "\n",
            "Evaluating...\n",
            "decoded_preds: ['ℇb…c…=…ℇ…Ɛb…c…j7<unk>c<unk>…c…du…ℇ…ℇbc…kℇ7…uc7…b…bℇ<unk>bcℇ…b…c…bℇ…bc…cℇ…ℇc…7…c…c…7…j…<unk>k…c…ℇ…c…u…ux…Ɛ…b<unk>…c…c<unk>…k…bjbc…ℇ…b…=d7cb…7c…)…ℇ…u…xℇ…x…c7…)…ℇ…u…b…cℇc…7…b…c…u…u…c…u…c…ucu…7=…b…7=7…=…ℇuℇƐb…b…bj…jb<unk>…Ɛc…c7…ℇ…Ɛc…c…c…c…c…c…<unk>Ɛc…!7…7…c…x…u=u=kℇxℇ…<unk>=b…u…uc…c…=…u…7u<unk>ℇc…u…7u7u…u…u…c7cu…c…u…c…ℇ…7…ℇu…c…jℇ…bc…ℇ…u…u…u…=ℇ…<unk>…<unk>…c…<unk>c<unk>…<unk>…j7…ℇ…c<unk>7Ɛc7…c…ℇ7c…u…b…ub7u7…ℇ…ℇ…ududuℇcℇc…ℇuℇ…ℇ…ℇ…c…x…ucu…c7…7…uc=…uℇ…u…<unk>jc…c7…7…ℇ…7ℇ=ℇ…<unk>…c…c…c…<unk>7c7…c…c…ℇ…b…']\n",
            "Valid set: Average loss: 50.2398, Accuracy: 0.0000, Average CER: 0.000000 Average WER: 1.0000\n",
            "\n",
            "...No improvement in validation WER from 1.0...\n",
            "Train Epoch: 6 [0/125 (0%)]\tLoss: 50.639511\n",
            "Train Epoch: 6 [400/125 (80%)]\tLoss: 49.607361\n",
            "\n",
            "Evaluating...\n",
            "decoded_preds: ['ℇb…c…=…ℇ…Ɛb…c…j7<unk>c<unk>…c…du…ℇ…ℇbc…kℇ7…uc7…b…bℇ<unk>bcℇ…b…c…bℇ…bc…cℇ…ℇc…7…c…c…7…j…<unk>k…c…ℇ…c…u…ux…Ɛ…b<unk>…c…c<unk>…k…bjbc…ℇ…b…=d7cb…7c…)…ℇ…u…xℇ…x…c7…)…ℇ…u…b…cℇc…7…b…c…u…u…c…u…c…ucu…7=…b…7=7…=…ℇuℇƐb…b…bj…jb<unk>…Ɛc…c7…ℇ…Ɛc…c…c…c…c…c…<unk>Ɛc…!7…7…c…x…u=u=kℇxℇ…<unk>=b…u…uc…c…=…u…7u<unk>ℇc…u…7u7u…u…u…c7cu…c…u…c…ℇ…7…ℇu…c…jℇ…bc…ℇ…u…u…u…=ℇ…<unk>…<unk>…c…<unk>c<unk>…<unk>…j7…ℇ…c<unk>7Ɛc7…c…ℇ7c…u…b…ub7u7…ℇ…ℇ…ududuℇcℇc…ℇuℇ…ℇ…ℇ…c…x…ucu…c7…7…uc=…uℇ…u…<unk>jc…c7…7…ℇ…7ℇ=ℇ…<unk>…c…c…c…<unk>7c7…c…c…ℇ…b…']\n",
            "Valid set: Average loss: 50.2398, Accuracy: 0.0000, Average CER: 0.000000 Average WER: 1.0000\n",
            "\n",
            "...No improvement in validation WER from 1.0...\n",
            "Train Epoch: 7 [0/125 (0%)]\tLoss: 59.982887\n",
            "Train Epoch: 7 [400/125 (80%)]\tLoss: 48.061386\n",
            "\n",
            "Evaluating...\n",
            "decoded_preds: ['ℇb…c…=…ℇ…Ɛb…c…j7<unk>c<unk>…c…du…ℇ…ℇbc…kℇ7…uc7…b…bℇ<unk>bcℇ…b…c…bℇ…bc…cℇ…ℇc…7…c…c…7…j…<unk>k…c…ℇ…c…u…ux…Ɛ…b<unk>…c…c<unk>…k…bjbc…ℇ…b…=d7cb…7c…)…ℇ…u…xℇ…x…c7…)…ℇ…u…b…cℇc…7…b…c…u…u…c…u…c…ucu…7=…b…7=7…=…ℇuℇƐb…b…bj…jb<unk>…Ɛc…c7…ℇ…Ɛc…c…c…c…c…c…<unk>Ɛc…!7…7…c…x…u=u=kℇxℇ…<unk>=b…u…uc…c…=…u…7u<unk>ℇc…u…7u7u…u…u…c7cu…c…u…c…ℇ…7…ℇu…c…jℇ…bc…ℇ…u…u…u…=ℇ…<unk>…<unk>…c…<unk>c<unk>…<unk>…j7…ℇ…c<unk>7Ɛc7…c…ℇ7c…u…b…ub7u7…ℇ…ℇ…ududuℇcℇc…ℇuℇ…ℇ…ℇ…c…x…ucu…c7…7…uc=…uℇ…u…<unk>jc…c7…7…ℇ…7ℇ=ℇ…<unk>…c…c…c…<unk>7c7…c…c…ℇ…b…']\n",
            "Valid set: Average loss: 50.2398, Accuracy: 0.0000, Average CER: 0.000000 Average WER: 1.0000\n",
            "\n",
            "...No improvement in validation WER from 1.0...\n",
            "Early stopping with patience of 5\n"
          ]
        },
        {
          "output_type": "display_data",
          "data": {
            "text/plain": [
              "<Figure size 1200x600 with 2 Axes>"
            ],
            "image/png": "[encoded data removed]"
          },
          "metadata": {}
        }
      ]
    },
    {
      "cell_type": "code",
      "source": [
        "main(learning_rate, batch_size, epochs, train_ds, val_ds, test_ds, resume = True)"
      ],
      "metadata": {
        "execution": {
          "iopub.status.busy": "2024-04-27T22:29:14.704848Z",
          "iopub.status.idle": "2024-04-27T22:29:14.705170Z",
          "shell.execute_reply.started": "2024-04-27T22:29:14.705016Z",
          "shell.execute_reply": "2024-04-27T22:29:14.705028Z"
        },
        "trusted": true,
        "id": "_8IYn6PUjaQK"
      },
      "execution_count": null,
      "outputs": []
    },
    {
      "cell_type": "code",
      "source": [
        "learning_rate = 0.001\n",
        "batch_size = 4\n",
        "epochs = 5"
      ],
      "metadata": {
        "id": "ZuQdorl2pdJi",
        "execution": {
          "iopub.status.busy": "2024-04-25T21:38:37.447480Z",
          "iopub.execute_input": "2024-04-25T21:38:37.448520Z",
          "iopub.status.idle": "2024-04-25T21:38:37.452697Z",
          "shell.execute_reply.started": "2024-04-25T21:38:37.448483Z",
          "shell.execute_reply": "2024-04-25T21:38:37.451532Z"
        },
        "trusted": true
      },
      "execution_count": null,
      "outputs": []
    },
    {
      "cell_type": "code",
      "source": [
        "main(learning_rate, batch_size, epochs, train_ds, test_ds)"
      ],
      "metadata": {
        "id": "OfD4eZvcMKVJ",
        "colab": {
          "base_uri": "https://localhost:8080/",
          "height": 351
        },
        "outputId": "bc1a3f96-179a-4536-f410-6946506bda54",
        "execution": {
          "iopub.status.busy": "2024-04-25T20:49:59.249773Z",
          "iopub.execute_input": "2024-04-25T20:49:59.250064Z",
          "iopub.status.idle": "2024-04-25T21:11:17.540890Z",
          "shell.execute_reply.started": "2024-04-25T20:49:59.250039Z",
          "shell.execute_reply": "2024-04-25T21:11:17.540075Z"
        },
        "trusted": true
      },
      "execution_count": null,
      "outputs": [
        {
          "name": "stdout",
          "text": "HERE!!!!\nTrain Epoch: 1 [0/50 (0%)]\tLoss: 53.767513\nTrain Epoch: 1 [25/50 (1%)]\tLoss: 6.143878\nTrain Epoch: 1 [50/50 (2%)]\tLoss: 3.103143\nTrain Epoch: 1 [75/50 (3%)]\tLoss: 3.231107\nTrain Epoch: 1 [100/50 (4%)]\tLoss: 2.984173\nTrain Epoch: 1 [125/50 (5%)]\tLoss: 3.020020\nTrain Epoch: 1 [150/50 (6%)]\tLoss: 3.010161\nTrain Epoch: 1 [175/50 (7%)]\tLoss: 2.924320\nTrain Epoch: 1 [200/50 (8%)]\tLoss: 2.900684\nTrain Epoch: 1 [225/50 (9%)]\tLoss: 2.985230\n\n\nevaluating…\ntensor([64, 64, 64,  ..., 64, 64, 64], device='cuda:0')\ntensor([64, 64, 64,  ..., 64, 64, 64], device='cuda:0')\ntensor([64, 64, 64,  ..., 64, 64, 64], device='cuda:0')\ntensor([64, 64, 64,  ..., 64, 64, 64], device='cuda:0')\ntensor([64, 64, 64,  ..., 64, 64, 64], device='cuda:0')\ndecoded_preds: ['', '', '', '', '']\ntensor([64, 64, 64,  ..., 64, 64, 64], device='cuda:0')\ntensor([64, 64, 64,  ..., 64, 64, 64], device='cuda:0')\ntensor([64, 64, 64,  ..., 64, 64, 64], device='cuda:0')\ntensor([64, 64, 64,  ..., 64, 64, 64], device='cuda:0')\ntensor([64, 64, 64,  ..., 64, 64, 64], device='cuda:0')\ndecoded_preds: ['', '', '', '', '']\ntensor([64, 64, 64,  ..., 64, 64, 64], device='cuda:0')\ntensor([64, 64, 64,  ..., 64, 64, 64], device='cuda:0')\ntensor([64, 64, 64,  ..., 64, 64, 64], device='cuda:0')\ntensor([64, 64, 64,  ..., 64, 64, 64], device='cuda:0')\ntensor([64, 64, 64,  ..., 64, 64, 64], device='cuda:0')\ndecoded_preds: ['', '', '', '', '']\ntensor([64, 64, 64,  ..., 64, 64, 64], device='cuda:0')\ntensor([64, 64, 64,  ..., 64, 64, 64], device='cuda:0')\ntensor([64, 64, 64,  ..., 64, 64, 64], device='cuda:0')\ntensor([64, 64, 64,  ..., 64, 64, 64], device='cuda:0')\ntensor([64, 64, 64,  ..., 64, 64, 64], device='cuda:0')\ndecoded_preds: ['', '', '', '', '']\ntensor([64, 64, 64,  ..., 64, 64, 64], device='cuda:0')\ntensor([64, 64, 64,  ..., 64, 64, 64], device='cuda:0')\ntensor([64, 64, 64,  ..., 64, 64, 64], device='cuda:0')\ntensor([64, 64, 64,  ..., 64, 64, 64], device='cuda:0')\ntensor([64, 64, 64,  ..., 64, 64, 64], device='cuda:0')\ndecoded_preds: ['', '', '', '', '']\ntensor([64, 64, 64,  ..., 64, 64, 64], device='cuda:0')\ntensor([64, 64, 64,  ..., 64, 64, 64], device='cuda:0')\ntensor([64, 64, 64,  ..., 64, 64, 64], device='cuda:0')\ntensor([64, 64, 64,  ..., 64, 64, 64], device='cuda:0')\ntensor([64, 64, 64,  ..., 64, 64, 64], device='cuda:0')\ndecoded_preds: ['', '', '', '', '']\ntensor([64, 64, 64,  ..., 64, 64, 64], device='cuda:0')\ntensor([64, 64, 64,  ..., 64, 64, 64], device='cuda:0')\ntensor([64, 64, 64,  ..., 64, 64, 64], device='cuda:0')\ntensor([64, 64, 64,  ..., 64, 64, 64], device='cuda:0')\ntensor([64, 64, 64,  ..., 64, 64, 64], device='cuda:0')\ndecoded_preds: ['', '', '', '', '']\ntensor([64, 64, 64,  ..., 64, 64, 64], device='cuda:0')\ntensor([64, 64, 64,  ..., 64, 64, 64], device='cuda:0')\ntensor([64, 64, 64,  ..., 64, 64, 64], device='cuda:0')\ntensor([64, 64, 64,  ..., 64, 64, 64], device='cuda:0')\ntensor([64, 64, 64,  ..., 64, 64, 64], device='cuda:0')\ndecoded_preds: ['', '', '', '', '']\ntensor([64, 64, 64,  ..., 64, 64, 64], device='cuda:0')\ntensor([64, 64, 64,  ..., 64, 64, 64], device='cuda:0')\ntensor([64, 64, 64,  ..., 64, 64, 64], device='cuda:0')\ntensor([64, 64, 64,  ..., 64, 64, 64], device='cuda:0')\ntensor([64, 64, 64,  ..., 64, 64, 64], device='cuda:0')\ndecoded_preds: ['', '', '', '', '']\ntensor([64, 64, 64,  ..., 64, 64, 64], device='cuda:0')\ntensor([64, 64, 64,  ..., 64, 64, 64], device='cuda:0')\ntensor([64, 64, 64,  ..., 64, 64, 64], device='cuda:0')\ntensor([64, 64, 64,  ..., 64, 64, 64], device='cuda:0')\ntensor([64, 64, 64,  ..., 64, 64, 64], device='cuda:0')\ndecoded_preds: ['', '', '', '', '']\ntensor([64, 64, 64,  ..., 64, 64, 64], device='cuda:0')\ntensor([64, 64, 64,  ..., 64, 64, 64], device='cuda:0')\ntensor([64, 64, 64,  ..., 64, 64, 64], device='cuda:0')\ntensor([64, 64, 64,  ..., 64, 64, 64], device='cuda:0')\ntensor([64, 64, 64,  ..., 64, 64, 64], device='cuda:0')\ndecoded_preds: ['', '', '', '', '']\ntensor([64, 64, 64,  ..., 64, 64, 64], device='cuda:0')\ntensor([64, 64, 64,  ..., 64, 64, 64], device='cuda:0')\ntensor([64, 64, 64,  ..., 64, 64, 64], device='cuda:0')\ntensor([64, 64, 64,  ..., 64, 64, 64], device='cuda:0')\ntensor([64, 64, 64,  ..., 64, 64, 64], device='cuda:0')\ndecoded_preds: ['', '', '', '', '']\ntensor([64, 64, 64,  ..., 64, 64, 64], device='cuda:0')\ntensor([64, 64, 64,  ..., 64, 64, 64], device='cuda:0')\ntensor([64, 64, 64,  ..., 64, 64, 64], device='cuda:0')\ntensor([64, 64, 64,  ..., 64, 64, 64], device='cuda:0')\ntensor([64, 64, 64,  ..., 64, 64, 64], device='cuda:0')\ndecoded_preds: ['', '', '', '', '']\ntensor([64, 64, 64,  ..., 64, 64, 64], device='cuda:0')\ntensor([64, 64, 64,  ..., 64, 64, 64], device='cuda:0')\ntensor([64, 64, 64,  ..., 64, 64, 64], device='cuda:0')\ntensor([64, 64, 64,  ..., 64, 64, 64], device='cuda:0')\ntensor([64, 64, 64,  ..., 64, 64, 64], device='cuda:0')\ndecoded_preds: ['', '', '', '', '']\ntensor([64, 64, 64,  ..., 64, 64, 64], device='cuda:0')\ntensor([64, 64, 64,  ..., 64, 64, 64], device='cuda:0')\ntensor([64, 64, 64,  ..., 64, 64, 64], device='cuda:0')\ntensor([64, 64, 64,  ..., 64, 64, 64], device='cuda:0')\ntensor([64, 64, 64,  ..., 64, 64, 64], device='cuda:0')\ndecoded_preds: ['', '', '', '', '']\ntensor([64, 64, 64,  ..., 64, 64, 64], device='cuda:0')\ntensor([64, 64, 64,  ..., 64, 64, 64], device='cuda:0')\ntensor([64, 64, 64,  ..., 64, 64, 64], device='cuda:0')\ntensor([64, 64, 64,  ..., 64, 64, 64], device='cuda:0')\ntensor([64, 64, 64,  ..., 64, 64, 64], device='cuda:0')\ndecoded_preds: ['', '', '', '', '']\ntensor([64, 64, 64,  ..., 64, 64, 64], device='cuda:0')\ntensor([64, 64, 64,  ..., 64, 64, 64], device='cuda:0')\ntensor([64, 64, 64,  ..., 64, 64, 64], device='cuda:0')\ntensor([64, 64, 64,  ..., 64, 64, 64], device='cuda:0')\ntensor([64, 64, 64,  ..., 64, 64, 64], device='cuda:0')\ndecoded_preds: ['', '', '', '', '']\ntensor([64, 64, 64,  ..., 64, 64, 64], device='cuda:0')\ntensor([64, 64, 64,  ..., 64, 64, 64], device='cuda:0')\ntensor([64, 64, 64,  ..., 64, 64, 64], device='cuda:0')\ntensor([64, 64, 64,  ..., 64, 64, 64], device='cuda:0')\ntensor([64, 64, 64,  ..., 64, 64, 64], device='cuda:0')\ndecoded_preds: ['', '', '', '', '']\ntensor([64, 64, 64,  ..., 64, 64, 64], device='cuda:0')\ntensor([64, 64, 64,  ..., 64, 64, 64], device='cuda:0')\ntensor([64, 64, 64,  ..., 64, 64, 64], device='cuda:0')\ntensor([64, 64, 64,  ..., 64, 64, 64], device='cuda:0')\ntensor([64, 64, 64,  ..., 64, 64, 64], device='cuda:0')\ndecoded_preds: ['', '', '', '', '']\ntensor([64, 64, 64,  ..., 64, 64, 64], device='cuda:0')\ntensor([64, 64, 64,  ..., 64, 64, 64], device='cuda:0')\ntensor([64, 64, 64,  ..., 64, 64, 64], device='cuda:0')\ntensor([64, 64, 64,  ..., 64, 64, 64], device='cuda:0')\ntensor([64, 64, 64,  ..., 64, 64, 64], device='cuda:0')\ndecoded_preds: ['', '', '', '', '']\ntensor([64, 64, 64,  ..., 64, 64, 64], device='cuda:0')\ntensor([64, 64, 64,  ..., 64, 64, 64], device='cuda:0')\ntensor([64, 64, 64,  ..., 64, 64, 64], device='cuda:0')\ntensor([64, 64, 64,  ..., 64, 64, 64], device='cuda:0')\ntensor([64, 64, 64,  ..., 64, 64, 64], device='cuda:0')\ndecoded_preds: ['', '', '', '', '']\ntensor([64, 64, 64,  ..., 64, 64, 64], device='cuda:0')\ntensor([64, 64, 64,  ..., 64, 64, 64], device='cuda:0')\ntensor([64, 64, 64,  ..., 64, 64, 64], device='cuda:0')\ntensor([64, 64, 64,  ..., 64, 64, 64], device='cuda:0')\ntensor([64, 64, 64,  ..., 64, 64, 64], device='cuda:0')\ndecoded_preds: ['', '', '', '', '']\ntensor([64, 64, 64,  ..., 64, 64, 64], device='cuda:0')\ntensor([64, 64, 64,  ..., 64, 64, 64], device='cuda:0')\ntensor([64, 64, 64,  ..., 64, 64, 64], device='cuda:0')\ntensor([64, 64, 64,  ..., 64, 64, 64], device='cuda:0')\ntensor([64, 64, 64,  ..., 64, 64, 64], device='cuda:0')\ndecoded_preds: ['', '', '', '', '']\ntensor([64, 64, 64,  ..., 64, 64, 64], device='cuda:0')\ntensor([64, 64, 64,  ..., 64, 64, 64], device='cuda:0')\ntensor([64, 64, 64,  ..., 64, 64, 64], device='cuda:0')\ntensor([64, 64, 64,  ..., 64, 64, 64], device='cuda:0')\ntensor([64, 64, 64,  ..., 64, 64, 64], device='cuda:0')\ndecoded_preds: ['', '', '', '', '']\ntensor([64, 64, 64,  ..., 64, 64, 64], device='cuda:0')\ntensor([64, 64, 64,  ..., 64, 64, 64], device='cuda:0')\ntensor([64, 64, 64,  ..., 64, 64, 64], device='cuda:0')\ntensor([64, 64, 64,  ..., 64, 64, 64], device='cuda:0')\ntensor([64, 64, 64,  ..., 64, 64, 64], device='cuda:0')\ndecoded_preds: ['', '', '', '', '']\nTest set: Average loss: 2.9792, Average CER: 1.000000 Average WER: 0.9987\n\nTrain Epoch: 2 [0/50 (0%)]\tLoss: 2.972344\nTrain Epoch: 2 [25/50 (1%)]\tLoss: 2.982924\nTrain Epoch: 2 [50/50 (2%)]\tLoss: 2.988947\nTrain Epoch: 2 [75/50 (3%)]\tLoss: 3.102827\nTrain Epoch: 2 [100/50 (4%)]\tLoss: 2.967762\nTrain Epoch: 2 [125/50 (5%)]\tLoss: 2.946425\nTrain Epoch: 2 [150/50 (6%)]\tLoss: 2.925557\nTrain Epoch: 2 [175/50 (7%)]\tLoss: 2.970890\nTrain Epoch: 2 [200/50 (8%)]\tLoss: 2.878651\nTrain Epoch: 2 [225/50 (9%)]\tLoss: 2.961679\n\n\nevaluating…\ntensor([64, 64, 64,  ..., 64, 64, 64], device='cuda:0')\ntensor([64, 64, 64,  ..., 64, 64, 64], device='cuda:0')\ntensor([64, 64, 64,  ..., 64, 64, 64], device='cuda:0')\ntensor([64, 64, 64,  ..., 64, 64, 64], device='cuda:0')\ntensor([64, 64, 64,  ..., 64, 64, 64], device='cuda:0')\ndecoded_preds: ['', '', '', '', '']\ntensor([64, 64, 64,  ..., 64, 64, 64], device='cuda:0')\ntensor([64, 64, 64,  ..., 64, 64, 64], device='cuda:0')\ntensor([64, 64, 64,  ..., 64, 64, 64], device='cuda:0')\ntensor([64, 64, 64,  ..., 64, 64, 64], device='cuda:0')\ntensor([64, 64, 64,  ..., 64, 64, 64], device='cuda:0')\ndecoded_preds: ['', '', '', '', '']\ntensor([64, 64, 64,  ..., 64, 64, 64], device='cuda:0')\ntensor([64, 64, 64,  ..., 64, 64, 64], device='cuda:0')\ntensor([64, 64, 64,  ..., 64, 64, 64], device='cuda:0')\ntensor([64, 64, 64,  ..., 64, 64, 64], device='cuda:0')\ntensor([64, 64, 64,  ..., 64, 64, 64], device='cuda:0')\ndecoded_preds: ['', '', '', '', '']\ntensor([64, 64, 64,  ..., 64, 64, 64], device='cuda:0')\ntensor([64, 64, 64,  ..., 64, 64, 64], device='cuda:0')\ntensor([64, 64, 64,  ..., 64, 64, 64], device='cuda:0')\ntensor([64, 64, 64,  ..., 64, 64, 64], device='cuda:0')\ntensor([64, 64, 64,  ..., 64, 64, 64], device='cuda:0')\ndecoded_preds: ['', '', '', '', '']\ntensor([64, 64, 64,  ..., 64, 64, 64], device='cuda:0')\ntensor([64, 64, 64,  ..., 64, 64, 64], device='cuda:0')\ntensor([64, 64, 64,  ..., 64, 64, 64], device='cuda:0')\ntensor([64, 64, 64,  ..., 64, 64, 64], device='cuda:0')\ntensor([64, 64, 64,  ..., 64, 64, 64], device='cuda:0')\ndecoded_preds: ['', '', '', '', '']\ntensor([64, 64, 64,  ..., 64, 64, 64], device='cuda:0')\ntensor([64, 64, 64,  ..., 64, 64, 64], device='cuda:0')\ntensor([64, 64, 64,  ..., 64, 64, 64], device='cuda:0')\ntensor([64, 64, 64,  ..., 64, 64, 64], device='cuda:0')\ntensor([64, 64, 64,  ..., 64, 64, 64], device='cuda:0')\ndecoded_preds: ['', '', '', '', '']\ntensor([64, 64, 64,  ..., 64, 64, 64], device='cuda:0')\ntensor([64, 64, 64,  ..., 64, 64, 64], device='cuda:0')\ntensor([64, 64, 64,  ..., 64, 64, 64], device='cuda:0')\ntensor([64, 64, 64,  ..., 64, 64, 64], device='cuda:0')\ntensor([64, 64, 64,  ..., 64, 64, 64], device='cuda:0')\ndecoded_preds: ['', '', '', '', '']\ntensor([64, 64, 64,  ..., 64, 64, 64], device='cuda:0')\ntensor([64, 64, 64,  ..., 64, 64, 64], device='cuda:0')\ntensor([64, 64, 64,  ..., 64, 64, 64], device='cuda:0')\ntensor([64, 64, 64,  ..., 64, 64, 64], device='cuda:0')\ntensor([64, 64, 64,  ..., 64, 64, 64], device='cuda:0')\ndecoded_preds: ['', '', '', '', '']\ntensor([64, 64, 64,  ..., 64, 64, 64], device='cuda:0')\ntensor([64, 64, 64,  ..., 64, 64, 64], device='cuda:0')\ntensor([64, 64, 64,  ..., 64, 64, 64], device='cuda:0')\ntensor([64, 64, 64,  ..., 64, 64, 64], device='cuda:0')\ntensor([64, 64, 64,  ..., 64, 64, 64], device='cuda:0')\ndecoded_preds: ['', '', '', '', '']\ntensor([64, 64, 64,  ..., 64, 64, 64], device='cuda:0')\ntensor([64, 64, 64,  ..., 64, 64, 64], device='cuda:0')\ntensor([64, 64, 64,  ..., 64, 64, 64], device='cuda:0')\ntensor([64, 64, 64,  ..., 64, 64, 64], device='cuda:0')\ntensor([64, 64, 64,  ..., 64, 64, 64], device='cuda:0')\ndecoded_preds: ['', '', '', '', '']\ntensor([64, 64, 64,  ..., 64, 64, 64], device='cuda:0')\ntensor([64, 64, 64,  ..., 64, 64, 64], device='cuda:0')\ntensor([64, 64, 64,  ..., 64, 64, 64], device='cuda:0')\ntensor([64, 64, 64,  ..., 64, 64, 64], device='cuda:0')\ntensor([64, 64, 64,  ..., 64, 64, 64], device='cuda:0')\ndecoded_preds: ['', '', '', '', '']\ntensor([64, 64, 64,  ..., 64, 64, 64], device='cuda:0')\ntensor([64, 64, 64,  ..., 64, 64, 64], device='cuda:0')\ntensor([64, 64, 64,  ..., 64, 64, 64], device='cuda:0')\ntensor([64, 64, 64,  ..., 64, 64, 64], device='cuda:0')\ntensor([64, 64, 64,  ..., 64, 64, 64], device='cuda:0')\ndecoded_preds: ['', '', '', '', '']\ntensor([64, 64, 64,  ..., 64, 64, 64], device='cuda:0')\ntensor([64, 64, 64,  ..., 64, 64, 64], device='cuda:0')\ntensor([64, 64, 64,  ..., 64, 64, 64], device='cuda:0')\ntensor([64, 64, 64,  ..., 64, 64, 64], device='cuda:0')\ntensor([64, 64, 64,  ..., 64, 64, 64], device='cuda:0')\ndecoded_preds: ['', '', '', '', '']\ntensor([64, 64, 64,  ..., 64, 64, 64], device='cuda:0')\ntensor([64, 64, 64,  ..., 64, 64, 64], device='cuda:0')\ntensor([64, 64, 64,  ..., 64, 64, 64], device='cuda:0')\ntensor([64, 64, 64,  ..., 64, 64, 64], device='cuda:0')\ntensor([64, 64, 64,  ..., 64, 64, 64], device='cuda:0')\ndecoded_preds: ['', '', '', '', '']\ntensor([64, 64, 64,  ..., 64, 64, 64], device='cuda:0')\ntensor([64, 64, 64,  ..., 64, 64, 64], device='cuda:0')\ntensor([64, 64, 64,  ..., 64, 64, 64], device='cuda:0')\ntensor([64, 64, 64,  ..., 64, 64, 64], device='cuda:0')\ntensor([64, 64, 64,  ..., 64, 64, 64], device='cuda:0')\ndecoded_preds: ['', '', '', '', '']\ntensor([64, 64, 64,  ..., 64, 64, 64], device='cuda:0')\ntensor([64, 64, 64,  ..., 64, 64, 64], device='cuda:0')\ntensor([64, 64, 64,  ..., 64, 64, 64], device='cuda:0')\ntensor([64, 64, 64,  ..., 64, 64, 64], device='cuda:0')\ntensor([64, 64, 64,  ..., 64, 64, 64], device='cuda:0')\ndecoded_preds: ['', '', '', '', '']\ntensor([64, 64, 64,  ..., 64, 64, 64], device='cuda:0')\ntensor([64, 64, 64,  ..., 64, 64, 64], device='cuda:0')\ntensor([64, 64, 64,  ..., 64, 64, 64], device='cuda:0')\ntensor([64, 64, 64,  ..., 64, 64, 64], device='cuda:0')\ntensor([64, 64, 64,  ..., 64, 64, 64], device='cuda:0')\ndecoded_preds: ['', '', '', '', '']\ntensor([64, 64, 64,  ..., 64, 64, 64], device='cuda:0')\ntensor([64, 64, 64,  ..., 64, 64, 64], device='cuda:0')\ntensor([64, 64, 64,  ..., 64, 64, 64], device='cuda:0')\ntensor([64, 64, 64,  ..., 64, 64, 64], device='cuda:0')\ntensor([64, 64, 64,  ..., 64, 64, 64], device='cuda:0')\ndecoded_preds: ['', '', '', '', '']\ntensor([64, 64, 64,  ..., 64, 64, 64], device='cuda:0')\ntensor([64, 64, 64,  ..., 64, 64, 64], device='cuda:0')\ntensor([64, 64, 64,  ..., 64, 64, 64], device='cuda:0')\ntensor([64, 64, 64,  ..., 64, 64, 64], device='cuda:0')\ntensor([64, 64, 64,  ..., 64, 64, 64], device='cuda:0')\ndecoded_preds: ['', '', '', '', '']\ntensor([64, 64, 64,  ..., 64, 64, 64], device='cuda:0')\ntensor([64, 64, 64,  ..., 64, 64, 64], device='cuda:0')\ntensor([64, 64, 64,  ..., 64, 64, 64], device='cuda:0')\ntensor([64, 64, 64,  ..., 64, 64, 64], device='cuda:0')\ntensor([64, 64, 64,  ..., 64, 64, 64], device='cuda:0')\ndecoded_preds: ['', '', '', '', '']\ntensor([64, 64, 64,  ..., 64, 64, 64], device='cuda:0')\ntensor([64, 64, 64,  ..., 64, 64, 64], device='cuda:0')\ntensor([64, 64, 64,  ..., 64, 64, 64], device='cuda:0')\ntensor([64, 64, 64,  ..., 64, 64, 64], device='cuda:0')\ntensor([64, 64, 64,  ..., 64, 64, 64], device='cuda:0')\ndecoded_preds: ['', '', '', '', '']\ntensor([64, 64, 64,  ..., 64, 64, 64], device='cuda:0')\ntensor([64, 64, 64,  ..., 64, 64, 64], device='cuda:0')\ntensor([64, 64, 64,  ..., 64, 64, 64], device='cuda:0')\ntensor([64, 64, 64,  ..., 64, 64, 64], device='cuda:0')\ntensor([64, 64, 64,  ..., 64, 64, 64], device='cuda:0')\ndecoded_preds: ['', '', '', '', '']\ntensor([64, 64, 64,  ..., 64, 64, 64], device='cuda:0')\ntensor([64, 64, 64,  ..., 64, 64, 64], device='cuda:0')\ntensor([64, 64, 64,  ..., 64, 64, 64], device='cuda:0')\ntensor([64, 64, 64,  ..., 64, 64, 64], device='cuda:0')\ntensor([64, 64, 64,  ..., 64, 64, 64], device='cuda:0')\ndecoded_preds: ['', '', '', '', '']\ntensor([64, 64, 64,  ..., 64, 64, 64], device='cuda:0')\ntensor([64, 64, 64,  ..., 64, 64, 64], device='cuda:0')\ntensor([64, 64, 64,  ..., 64, 64, 64], device='cuda:0')\ntensor([64, 64, 64,  ..., 64, 64, 64], device='cuda:0')\ntensor([64, 64, 64,  ..., 64, 64, 64], device='cuda:0')\ndecoded_preds: ['', '', '', '', '']\ntensor([64, 64, 64,  ..., 64, 64, 64], device='cuda:0')\ntensor([64, 64, 64,  ..., 64, 64, 64], device='cuda:0')\ntensor([64, 64, 64,  ..., 64, 64, 64], device='cuda:0')\ntensor([64, 64, 64,  ..., 64, 64, 64], device='cuda:0')\ntensor([64, 64, 64,  ..., 64, 64, 64], device='cuda:0')\ndecoded_preds: ['', '', '', '', '']\nTest set: Average loss: 2.9607, Average CER: 1.000000 Average WER: 0.9987\n\nTrain Epoch: 3 [0/50 (0%)]\tLoss: 3.054141\nTrain Epoch: 3 [25/50 (1%)]\tLoss: 2.934211\nTrain Epoch: 3 [50/50 (2%)]\tLoss: 2.944155\nTrain Epoch: 3 [75/50 (3%)]\tLoss: 2.958969\nTrain Epoch: 3 [100/50 (4%)]\tLoss: 2.923861\nTrain Epoch: 3 [125/50 (5%)]\tLoss: 2.955468\nTrain Epoch: 3 [150/50 (6%)]\tLoss: 2.953328\nTrain Epoch: 3 [175/50 (7%)]\tLoss: 2.900368\nTrain Epoch: 3 [200/50 (8%)]\tLoss: 2.970347\nTrain Epoch: 3 [225/50 (9%)]\tLoss: 2.885693\n\n\nevaluating…\ntensor([64, 64, 64,  ..., 64, 64, 64], device='cuda:0')\ntensor([64, 64, 64,  ..., 64, 64, 64], device='cuda:0')\ntensor([64, 64, 64,  ..., 64, 64, 64], device='cuda:0')\ntensor([64, 64, 64,  ..., 64, 64, 64], device='cuda:0')\ntensor([64, 64, 64,  ..., 64, 64, 64], device='cuda:0')\ndecoded_preds: ['', '', '', '', '']\ntensor([64, 64, 64,  ..., 64, 64, 64], device='cuda:0')\ntensor([64, 64, 64,  ..., 64, 64, 64], device='cuda:0')\ntensor([64, 64, 64,  ..., 64, 64, 64], device='cuda:0')\ntensor([64, 64, 64,  ..., 64, 64, 64], device='cuda:0')\ntensor([64, 64, 64,  ..., 64, 64, 64], device='cuda:0')\ndecoded_preds: ['', '', '', '', '']\ntensor([64, 64, 64,  ..., 64, 64, 64], device='cuda:0')\ntensor([64, 64, 64,  ..., 64, 64, 64], device='cuda:0')\ntensor([64, 64, 64,  ..., 64, 64, 64], device='cuda:0')\ntensor([64, 64, 64,  ..., 64, 64, 64], device='cuda:0')\ntensor([64, 64, 64,  ..., 64, 64, 64], device='cuda:0')\ndecoded_preds: ['', '', '', '', '']\ntensor([64, 64, 64,  ..., 64, 64, 64], device='cuda:0')\ntensor([64, 64, 64,  ..., 64, 64, 64], device='cuda:0')\ntensor([64, 64, 64,  ..., 64, 64, 64], device='cuda:0')\ntensor([64, 64, 64,  ..., 64, 64, 64], device='cuda:0')\ntensor([64, 64, 64,  ..., 64, 64, 64], device='cuda:0')\ndecoded_preds: ['', '', '', '', '']\ntensor([64, 64, 64,  ..., 64, 64, 64], device='cuda:0')\ntensor([64, 64, 64,  ..., 64, 64, 64], device='cuda:0')\ntensor([64, 64, 64,  ..., 64, 64, 64], device='cuda:0')\ntensor([64, 64, 64,  ..., 64, 64, 64], device='cuda:0')\ntensor([64, 64, 64,  ..., 64, 64, 64], device='cuda:0')\ndecoded_preds: ['', '', '', '', '']\ntensor([64, 64, 64,  ..., 64, 64, 64], device='cuda:0')\ntensor([64, 64, 64,  ..., 64, 64, 64], device='cuda:0')\ntensor([64, 64, 64,  ..., 64, 64, 64], device='cuda:0')\ntensor([64, 64, 64,  ..., 64, 64, 64], device='cuda:0')\ntensor([64, 64, 64,  ..., 64, 64, 64], device='cuda:0')\ndecoded_preds: ['', '', '', '', '']\ntensor([64, 64, 64,  ..., 64, 64, 64], device='cuda:0')\ntensor([64, 64, 64,  ..., 64, 64, 64], device='cuda:0')\ntensor([64, 64, 64,  ..., 64, 64, 64], device='cuda:0')\ntensor([64, 64, 64,  ..., 64, 64, 64], device='cuda:0')\ntensor([64, 64, 64,  ..., 64, 64, 64], device='cuda:0')\ndecoded_preds: ['', '', '', '', '']\ntensor([64, 64, 64,  ..., 64, 64, 64], device='cuda:0')\ntensor([64, 64, 64,  ..., 64, 64, 64], device='cuda:0')\ntensor([64, 64, 64,  ..., 64, 64, 64], device='cuda:0')\ntensor([64, 64, 64,  ..., 64, 64, 64], device='cuda:0')\ntensor([64, 64, 64,  ..., 64, 64, 64], device='cuda:0')\ndecoded_preds: ['', '', '', '', '']\ntensor([64, 64, 64,  ..., 64, 64, 64], device='cuda:0')\ntensor([64, 64, 64,  ..., 64, 64, 64], device='cuda:0')\ntensor([64, 64, 64,  ..., 64, 64, 64], device='cuda:0')\ntensor([64, 64, 64,  ..., 64, 64, 64], device='cuda:0')\ntensor([64, 64, 64,  ..., 64, 64, 64], device='cuda:0')\ndecoded_preds: ['', '', '', '', '']\ntensor([64, 64, 64,  ..., 64, 64, 64], device='cuda:0')\ntensor([64, 64, 64,  ..., 64, 64, 64], device='cuda:0')\ntensor([64, 64, 64,  ..., 64, 64, 64], device='cuda:0')\ntensor([64, 64, 64,  ..., 64, 64, 64], device='cuda:0')\ntensor([64, 64, 64,  ..., 64, 64, 64], device='cuda:0')\ndecoded_preds: ['', '', '', '', '']\ntensor([64, 64, 64,  ..., 64, 64, 64], device='cuda:0')\ntensor([64, 64, 64,  ..., 64, 64, 64], device='cuda:0')\ntensor([64, 64, 64,  ..., 64, 64, 64], device='cuda:0')\ntensor([64, 64, 64,  ..., 64, 64, 64], device='cuda:0')\ntensor([64, 64, 64,  ..., 64, 64, 64], device='cuda:0')\ndecoded_preds: ['', '', '', '', '']\ntensor([64, 64, 64,  ..., 64, 64, 64], device='cuda:0')\ntensor([64, 64, 64,  ..., 64, 64, 64], device='cuda:0')\ntensor([64, 64, 64,  ..., 64, 64, 64], device='cuda:0')\ntensor([64, 64, 64,  ..., 64, 64, 64], device='cuda:0')\ntensor([64, 64, 64,  ..., 64, 64, 64], device='cuda:0')\ndecoded_preds: ['', '', '', '', '']\ntensor([64, 64, 64,  ..., 64, 64, 64], device='cuda:0')\ntensor([64, 64, 64,  ..., 64, 64, 64], device='cuda:0')\ntensor([64, 64, 64,  ..., 64, 64, 64], device='cuda:0')\ntensor([64, 64, 64,  ..., 64, 64, 64], device='cuda:0')\ntensor([64, 64, 64,  ..., 64, 64, 64], device='cuda:0')\ndecoded_preds: ['', '', '', '', '']\ntensor([64, 64, 64,  ..., 64, 64, 64], device='cuda:0')\ntensor([64, 64, 64,  ..., 64, 64, 64], device='cuda:0')\ntensor([64, 64, 64,  ..., 64, 64, 64], device='cuda:0')\ntensor([64, 64, 64,  ..., 64, 64, 64], device='cuda:0')\ntensor([64, 64, 64,  ..., 64, 64, 64], device='cuda:0')\ndecoded_preds: ['', '', '', '', '']\ntensor([64, 64, 64,  ..., 64, 64, 64], device='cuda:0')\ntensor([64, 64, 64,  ..., 64, 64, 64], device='cuda:0')\ntensor([64, 64, 64,  ..., 64, 64, 64], device='cuda:0')\ntensor([64, 64, 64,  ..., 64, 64, 64], device='cuda:0')\ntensor([64, 64, 64,  ..., 64, 64, 64], device='cuda:0')\ndecoded_preds: ['', '', '', '', '']\ntensor([64, 64, 64,  ..., 64, 64, 64], device='cuda:0')\ntensor([64, 64, 64,  ..., 64, 64, 64], device='cuda:0')\ntensor([64, 64, 64,  ..., 64, 64, 64], device='cuda:0')\ntensor([64, 64, 64,  ..., 64, 64, 64], device='cuda:0')\ntensor([64, 64, 64,  ..., 64, 64, 64], device='cuda:0')\ndecoded_preds: ['', '', '', '', '']\ntensor([64, 64, 64,  ..., 64, 64, 64], device='cuda:0')\ntensor([64, 64, 64,  ..., 64, 64, 64], device='cuda:0')\ntensor([64, 64, 64,  ..., 64, 64, 64], device='cuda:0')\ntensor([64, 64, 64,  ..., 64, 64, 64], device='cuda:0')\ntensor([64, 64, 64,  ..., 64, 64, 64], device='cuda:0')\ndecoded_preds: ['', '', '', '', '']\ntensor([64, 64, 64,  ..., 64, 64, 64], device='cuda:0')\ntensor([64, 64, 64,  ..., 64, 64, 64], device='cuda:0')\ntensor([64, 64, 64,  ..., 64, 64, 64], device='cuda:0')\ntensor([64, 64, 64,  ..., 64, 64, 64], device='cuda:0')\ntensor([64, 64, 64,  ..., 64, 64, 64], device='cuda:0')\ndecoded_preds: ['', '', '', '', '']\ntensor([64, 64, 64,  ..., 64, 64, 64], device='cuda:0')\ntensor([64, 64, 64,  ..., 64, 64, 64], device='cuda:0')\ntensor([64, 64, 64,  ..., 64, 64, 64], device='cuda:0')\ntensor([64, 64, 64,  ..., 64, 64, 64], device='cuda:0')\ntensor([64, 64, 64,  ..., 64, 64, 64], device='cuda:0')\ndecoded_preds: ['', '', '', '', '']\ntensor([64, 64, 64,  ..., 64, 64, 64], device='cuda:0')\ntensor([64, 64, 64,  ..., 64, 64, 64], device='cuda:0')\ntensor([64, 64, 64,  ..., 64, 64, 64], device='cuda:0')\ntensor([64, 64, 64,  ..., 64, 64, 64], device='cuda:0')\ntensor([64, 64, 64,  ..., 64, 64, 64], device='cuda:0')\ndecoded_preds: ['', '', '', '', '']\ntensor([64, 64, 64,  ..., 64, 64, 64], device='cuda:0')\ntensor([64, 64, 64,  ..., 64, 64, 64], device='cuda:0')\ntensor([64, 64, 64,  ..., 64, 64, 64], device='cuda:0')\ntensor([64, 64, 64,  ..., 64, 64, 64], device='cuda:0')\ntensor([64, 64, 64,  ..., 64, 64, 64], device='cuda:0')\ndecoded_preds: ['', '', '', '', '']\ntensor([64, 64, 64,  ..., 64, 64, 64], device='cuda:0')\ntensor([64, 64, 64,  ..., 64, 64, 64], device='cuda:0')\ntensor([64, 64, 64,  ..., 64, 64, 64], device='cuda:0')\ntensor([64, 64, 64,  ..., 64, 64, 64], device='cuda:0')\ntensor([64, 64, 64,  ..., 64, 64, 64], device='cuda:0')\ndecoded_preds: ['', '', '', '', '']\ntensor([64, 64, 64,  ..., 64, 64, 64], device='cuda:0')\ntensor([64, 64, 64,  ..., 64, 64, 64], device='cuda:0')\ntensor([64, 64, 64,  ..., 64, 64, 64], device='cuda:0')\ntensor([64, 64, 64,  ..., 64, 64, 64], device='cuda:0')\ntensor([64, 64, 64,  ..., 64, 64, 64], device='cuda:0')\ndecoded_preds: ['', '', '', '', '']\ntensor([64, 64, 64,  ..., 64, 64, 64], device='cuda:0')\ntensor([64, 64, 64,  ..., 64, 64, 64], device='cuda:0')\ntensor([64, 64, 64,  ..., 64, 64, 64], device='cuda:0')\ntensor([64, 64, 64,  ..., 64, 64, 64], device='cuda:0')\ntensor([64, 64, 64,  ..., 64, 64, 64], device='cuda:0')\ndecoded_preds: ['', '', '', '', '']\ntensor([64, 64, 64,  ..., 64, 64, 64], device='cuda:0')\ntensor([64, 64, 64,  ..., 64, 64, 64], device='cuda:0')\ntensor([64, 64, 64,  ..., 64, 64, 64], device='cuda:0')\ntensor([64, 64, 64,  ..., 64, 64, 64], device='cuda:0')\ntensor([64, 64, 64,  ..., 64, 64, 64], device='cuda:0')\ndecoded_preds: ['', '', '', '', '']\nTest set: Average loss: 2.9564, Average CER: 1.000000 Average WER: 0.9987\n\nTrain Epoch: 4 [0/50 (0%)]\tLoss: 2.918195\nTrain Epoch: 4 [25/50 (1%)]\tLoss: 2.917172\nTrain Epoch: 4 [50/50 (2%)]\tLoss: 2.901869\nTrain Epoch: 4 [75/50 (3%)]\tLoss: 2.938065\nTrain Epoch: 4 [100/50 (4%)]\tLoss: 2.860845\nTrain Epoch: 4 [125/50 (5%)]\tLoss: 2.935346\nTrain Epoch: 4 [150/50 (6%)]\tLoss: 2.916184\nTrain Epoch: 4 [175/50 (7%)]\tLoss: 2.948289\nTrain Epoch: 4 [200/50 (8%)]\tLoss: 2.940117\nTrain Epoch: 4 [225/50 (9%)]\tLoss: 2.919875\n\n\nevaluating…\ntensor([64, 64, 64,  ..., 64, 64, 64], device='cuda:0')\ntensor([64, 64, 64,  ..., 64, 64, 64], device='cuda:0')\ntensor([64, 64, 64,  ..., 64, 64, 64], device='cuda:0')\ntensor([64, 64, 64,  ..., 64, 64, 64], device='cuda:0')\ntensor([64, 64, 64,  ..., 64, 64, 64], device='cuda:0')\ndecoded_preds: ['', '', '', '', '']\ntensor([64, 64, 64,  ..., 64, 64, 64], device='cuda:0')\ntensor([64, 64, 64,  ..., 64, 64, 64], device='cuda:0')\ntensor([64, 64, 64,  ..., 64, 64, 64], device='cuda:0')\ntensor([64, 64, 64,  ..., 64, 64, 64], device='cuda:0')\ntensor([64, 64, 64,  ..., 64, 64, 64], device='cuda:0')\ndecoded_preds: ['', '', '', '', '']\ntensor([64, 64, 64,  ..., 64, 64, 64], device='cuda:0')\ntensor([64, 64, 64,  ..., 64, 64, 64], device='cuda:0')\ntensor([64, 64, 64,  ..., 64, 64, 64], device='cuda:0')\ntensor([64, 64, 64,  ..., 64, 64, 64], device='cuda:0')\ntensor([64, 64, 64,  ..., 64, 64, 64], device='cuda:0')\ndecoded_preds: ['', '', '', '', '']\ntensor([64, 64, 64,  ..., 64, 64, 64], device='cuda:0')\ntensor([64, 64, 64,  ..., 64, 64, 64], device='cuda:0')\ntensor([64, 64, 64,  ..., 64, 64, 64], device='cuda:0')\ntensor([64, 64, 64,  ..., 64, 64, 64], device='cuda:0')\ntensor([64, 64, 64,  ..., 64, 64, 64], device='cuda:0')\ndecoded_preds: ['', '', '', '', '']\ntensor([64, 64, 64,  ..., 64, 64, 64], device='cuda:0')\ntensor([64, 64, 64,  ..., 64, 64, 64], device='cuda:0')\ntensor([64, 64, 64,  ..., 64, 64, 64], device='cuda:0')\ntensor([64, 64, 64,  ..., 64, 64, 64], device='cuda:0')\ntensor([64, 64, 64,  ..., 64, 64, 64], device='cuda:0')\ndecoded_preds: ['', '', '', '', '']\ntensor([64, 64, 64,  ..., 64, 64, 64], device='cuda:0')\ntensor([64, 64, 64,  ..., 64, 64, 64], device='cuda:0')\ntensor([64, 64, 64,  ..., 64, 64, 64], device='cuda:0')\ntensor([64, 64, 64,  ..., 64, 64, 64], device='cuda:0')\ntensor([64, 64, 64,  ..., 64, 64, 64], device='cuda:0')\ndecoded_preds: ['', '', '', '', '']\ntensor([64, 64, 64,  ..., 64, 64, 64], device='cuda:0')\ntensor([64, 64, 64,  ..., 64, 64, 64], device='cuda:0')\ntensor([64, 64, 64,  ..., 64, 64, 64], device='cuda:0')\ntensor([64, 64, 64,  ..., 64, 64, 64], device='cuda:0')\ntensor([64, 64, 64,  ..., 64, 64, 64], device='cuda:0')\ndecoded_preds: ['', '', '', '', '']\ntensor([64, 64, 64,  ..., 64, 64, 64], device='cuda:0')\ntensor([64, 64, 64,  ..., 64, 64, 64], device='cuda:0')\ntensor([64, 64, 64,  ..., 64, 64, 64], device='cuda:0')\ntensor([64, 64, 64,  ..., 64, 64, 64], device='cuda:0')\ntensor([64, 64, 64,  ..., 64, 64, 64], device='cuda:0')\ndecoded_preds: ['', '', '', '', '']\ntensor([64, 64, 64,  ..., 64, 64, 64], device='cuda:0')\ntensor([64, 64, 64,  ..., 64, 64, 64], device='cuda:0')\ntensor([64, 64, 64,  ..., 64, 64, 64], device='cuda:0')\ntensor([64, 64, 64,  ..., 64, 64, 64], device='cuda:0')\ntensor([64, 64, 64,  ..., 64, 64, 64], device='cuda:0')\ndecoded_preds: ['', '', '', '', '']\ntensor([64, 64, 64,  ..., 64, 64, 64], device='cuda:0')\ntensor([64, 64, 64,  ..., 64, 64, 64], device='cuda:0')\ntensor([64, 64, 64,  ..., 64, 64, 64], device='cuda:0')\ntensor([64, 64, 64,  ..., 64, 64, 64], device='cuda:0')\ntensor([64, 64, 64,  ..., 64, 64, 64], device='cuda:0')\ndecoded_preds: ['', '', '', '', '']\ntensor([64, 64, 64,  ..., 64, 64, 64], device='cuda:0')\ntensor([64, 64, 64,  ..., 64, 64, 64], device='cuda:0')\ntensor([64, 64, 64,  ..., 64, 64, 64], device='cuda:0')\ntensor([64, 64, 64,  ..., 64, 64, 64], device='cuda:0')\ntensor([64, 64, 64,  ..., 64, 64, 64], device='cuda:0')\ndecoded_preds: ['', '', '', '', '']\ntensor([64, 64, 64,  ..., 64, 64, 64], device='cuda:0')\ntensor([64, 64, 64,  ..., 64, 64, 64], device='cuda:0')\ntensor([64, 64, 64,  ..., 64, 64, 64], device='cuda:0')\ntensor([64, 64, 64,  ..., 64, 64, 64], device='cuda:0')\ntensor([64, 64, 64,  ..., 64, 64, 64], device='cuda:0')\ndecoded_preds: ['', '', '', '', '']\ntensor([64, 64, 64,  ..., 64, 64, 64], device='cuda:0')\ntensor([64, 64, 64,  ..., 64, 64, 64], device='cuda:0')\ntensor([64, 64, 64,  ..., 64, 64, 64], device='cuda:0')\ntensor([64, 64, 64,  ..., 64, 64, 64], device='cuda:0')\ntensor([64, 64, 64,  ..., 64, 64, 64], device='cuda:0')\ndecoded_preds: ['', '', '', '', '']\ntensor([64, 64, 64,  ..., 64, 64, 64], device='cuda:0')\ntensor([64, 64, 64,  ..., 64, 64, 64], device='cuda:0')\ntensor([64, 64, 64,  ..., 64, 64, 64], device='cuda:0')\ntensor([64, 64, 64,  ..., 64, 64, 64], device='cuda:0')\ntensor([64, 64, 64,  ..., 64, 64, 64], device='cuda:0')\ndecoded_preds: ['', '', '', '', '']\ntensor([64, 64, 64,  ..., 64, 64, 64], device='cuda:0')\ntensor([64, 64, 64,  ..., 64, 64, 64], device='cuda:0')\ntensor([64, 64, 64,  ..., 64, 64, 64], device='cuda:0')\ntensor([64, 64, 64,  ..., 64, 64, 64], device='cuda:0')\ntensor([64, 64, 64,  ..., 64, 64, 64], device='cuda:0')\ndecoded_preds: ['', '', '', '', '']\ntensor([64, 64, 64,  ..., 64, 64, 64], device='cuda:0')\ntensor([64, 64, 64,  ..., 64, 64, 64], device='cuda:0')\ntensor([64, 64, 64,  ..., 64, 64, 64], device='cuda:0')\ntensor([64, 64, 64,  ..., 64, 64, 64], device='cuda:0')\ntensor([64, 64, 64,  ..., 64, 64, 64], device='cuda:0')\ndecoded_preds: ['', '', '', '', '']\ntensor([64, 64, 64,  ..., 64, 64, 64], device='cuda:0')\ntensor([64, 64, 64,  ..., 64, 64, 64], device='cuda:0')\ntensor([64, 64, 64,  ..., 64, 64, 64], device='cuda:0')\ntensor([64, 64, 64,  ..., 64, 64, 64], device='cuda:0')\ntensor([64, 64, 64,  ..., 64, 64, 64], device='cuda:0')\ndecoded_preds: ['', '', '', '', '']\ntensor([64, 64, 64,  ..., 64, 64, 64], device='cuda:0')\ntensor([64, 64, 64,  ..., 64, 64, 64], device='cuda:0')\ntensor([64, 64, 64,  ..., 64, 64, 64], device='cuda:0')\ntensor([64, 64, 64,  ..., 64, 64, 64], device='cuda:0')\ntensor([64, 64, 64,  ..., 64, 64, 64], device='cuda:0')\ndecoded_preds: ['', '', '', '', '']\ntensor([64, 64, 64,  ..., 64, 64, 64], device='cuda:0')\ntensor([64, 64, 64,  ..., 64, 64, 64], device='cuda:0')\ntensor([64, 64, 64,  ..., 64, 64, 64], device='cuda:0')\ntensor([64, 64, 64,  ..., 64, 64, 64], device='cuda:0')\ntensor([64, 64, 64,  ..., 64, 64, 64], device='cuda:0')\ndecoded_preds: ['', '', '', '', '']\ntensor([64, 64, 64,  ..., 64, 64, 64], device='cuda:0')\ntensor([64, 64, 64,  ..., 64, 64, 64], device='cuda:0')\ntensor([64, 64, 64,  ..., 64, 64, 64], device='cuda:0')\ntensor([64, 64, 64,  ..., 64, 64, 64], device='cuda:0')\ntensor([64, 64, 64,  ..., 64, 64, 64], device='cuda:0')\ndecoded_preds: ['', '', '', '', '']\ntensor([64, 64, 64,  ..., 64, 64, 64], device='cuda:0')\ntensor([64, 64, 64,  ..., 64, 64, 64], device='cuda:0')\ntensor([64, 64, 64,  ..., 64, 64, 64], device='cuda:0')\ntensor([64, 64, 64,  ..., 64, 64, 64], device='cuda:0')\ntensor([64, 64, 64,  ..., 64, 64, 64], device='cuda:0')\ndecoded_preds: ['', '', '', '', '']\ntensor([64, 64, 64,  ..., 64, 64, 64], device='cuda:0')\ntensor([64, 64, 64,  ..., 64, 64, 64], device='cuda:0')\ntensor([64, 64, 64,  ..., 64, 64, 64], device='cuda:0')\ntensor([64, 64, 64,  ..., 64, 64, 64], device='cuda:0')\ntensor([64, 64, 64,  ..., 64, 64, 64], device='cuda:0')\ndecoded_preds: ['', '', '', '', '']\ntensor([64, 64, 64,  ..., 64, 64, 64], device='cuda:0')\ntensor([64, 64, 64,  ..., 64, 64, 64], device='cuda:0')\ntensor([64, 64, 64,  ..., 64, 64, 64], device='cuda:0')\ntensor([64, 64, 64,  ..., 64, 64, 64], device='cuda:0')\ntensor([64, 64, 64,  ..., 64, 64, 64], device='cuda:0')\ndecoded_preds: ['', '', '', '', '']\ntensor([64, 64, 64,  ..., 64, 64, 64], device='cuda:0')\ntensor([64, 64, 64,  ..., 64, 64, 64], device='cuda:0')\ntensor([64, 64, 64,  ..., 64, 64, 64], device='cuda:0')\ntensor([64, 64, 64,  ..., 64, 64, 64], device='cuda:0')\ntensor([64, 64, 64,  ..., 64, 64, 64], device='cuda:0')\ndecoded_preds: ['', '', '', '', '']\ntensor([64, 64, 64,  ..., 64, 64, 64], device='cuda:0')\ntensor([64, 64, 64,  ..., 64, 64, 64], device='cuda:0')\ntensor([64, 64, 64,  ..., 64, 64, 64], device='cuda:0')\ntensor([64, 64, 64,  ..., 64, 64, 64], device='cuda:0')\ntensor([64, 64, 64,  ..., 64, 64, 64], device='cuda:0')\ndecoded_preds: ['', '', '', '', '']\nTest set: Average loss: 2.9591, Average CER: 1.000000 Average WER: 0.9987\n\nTrain Epoch: 5 [0/50 (0%)]\tLoss: 2.971261\nTrain Epoch: 5 [25/50 (1%)]\tLoss: 2.923516\nTrain Epoch: 5 [50/50 (2%)]\tLoss: 2.937041\nTrain Epoch: 5 [75/50 (3%)]\tLoss: 3.058987\nTrain Epoch: 5 [100/50 (4%)]\tLoss: 3.016316\nTrain Epoch: 5 [125/50 (5%)]\tLoss: 2.885864\nTrain Epoch: 5 [150/50 (6%)]\tLoss: 2.922466\nTrain Epoch: 5 [175/50 (7%)]\tLoss: 3.009385\nTrain Epoch: 5 [200/50 (8%)]\tLoss: 2.879614\nTrain Epoch: 5 [225/50 (9%)]\tLoss: 2.970826\n\n\nevaluating…\ntensor([64, 64, 64,  ..., 64, 64, 64], device='cuda:0')\ntensor([64, 64, 64,  ..., 64, 64, 64], device='cuda:0')\ntensor([64, 64, 64,  ..., 64, 64, 64], device='cuda:0')\ntensor([64, 64, 64,  ..., 64, 64, 64], device='cuda:0')\ntensor([64, 64, 64,  ..., 64, 64, 64], device='cuda:0')\ndecoded_preds: ['', '', '', '', '']\ntensor([64, 64, 64,  ..., 64, 64, 64], device='cuda:0')\ntensor([64, 64, 64,  ..., 64, 64, 64], device='cuda:0')\ntensor([64, 64, 64,  ..., 64, 64, 64], device='cuda:0')\ntensor([64, 64, 64,  ..., 64, 64, 64], device='cuda:0')\ntensor([64, 64, 64,  ..., 64, 64, 64], device='cuda:0')\ndecoded_preds: ['', '', '', '', '']\ntensor([64, 64, 64,  ..., 64, 64, 64], device='cuda:0')\ntensor([64, 64, 64,  ..., 64, 64, 64], device='cuda:0')\ntensor([64, 64, 64,  ..., 64, 64, 64], device='cuda:0')\ntensor([64, 64, 64,  ..., 64, 64, 64], device='cuda:0')\ntensor([64, 64, 64,  ..., 64, 64, 64], device='cuda:0')\ndecoded_preds: ['', '', '', '', '']\ntensor([64, 64, 64,  ..., 64, 64, 64], device='cuda:0')\ntensor([64, 64, 64,  ..., 64, 64, 64], device='cuda:0')\ntensor([64, 64, 64,  ..., 64, 64, 64], device='cuda:0')\ntensor([64, 64, 64,  ..., 64, 64, 64], device='cuda:0')\ntensor([64, 64, 64,  ..., 64, 64, 64], device='cuda:0')\ndecoded_preds: ['', '', '', '', '']\ntensor([64, 64, 64,  ..., 64, 64, 64], device='cuda:0')\ntensor([64, 64, 64,  ..., 64, 64, 64], device='cuda:0')\ntensor([64, 64, 64,  ..., 64, 64, 64], device='cuda:0')\ntensor([64, 64, 64,  ..., 64, 64, 64], device='cuda:0')\ntensor([64, 64, 64,  ..., 64, 64, 64], device='cuda:0')\ndecoded_preds: ['', '', '', '', '']\ntensor([64, 64, 64,  ..., 64, 64, 64], device='cuda:0')\ntensor([64, 64, 64,  ..., 64, 64, 64], device='cuda:0')\ntensor([64, 64, 64,  ..., 64, 64, 64], device='cuda:0')\ntensor([64, 64, 64,  ..., 64, 64, 64], device='cuda:0')\ntensor([64, 64, 64,  ..., 64, 64, 64], device='cuda:0')\ndecoded_preds: ['', '', '', '', '']\ntensor([64, 64, 64,  ..., 64, 64, 64], device='cuda:0')\ntensor([64, 64, 64,  ..., 64, 64, 64], device='cuda:0')\ntensor([64, 64, 64,  ..., 64, 64, 64], device='cuda:0')\ntensor([64, 64, 64,  ..., 64, 64, 64], device='cuda:0')\ntensor([64, 64, 64,  ..., 64, 64, 64], device='cuda:0')\ndecoded_preds: ['', '', '', '', '']\ntensor([64, 64, 64,  ..., 64, 64, 64], device='cuda:0')\ntensor([64, 64, 64,  ..., 64, 64, 64], device='cuda:0')\ntensor([64, 64, 64,  ..., 64, 64, 64], device='cuda:0')\ntensor([64, 64, 64,  ..., 64, 64, 64], device='cuda:0')\ntensor([64, 64, 64,  ..., 64, 64, 64], device='cuda:0')\ndecoded_preds: ['', '', '', '', '']\ntensor([64, 64, 64,  ..., 64, 64, 64], device='cuda:0')\ntensor([64, 64, 64,  ..., 64, 64, 64], device='cuda:0')\ntensor([64, 64, 64,  ..., 64, 64, 64], device='cuda:0')\ntensor([64, 64, 64,  ..., 64, 64, 64], device='cuda:0')\ntensor([64, 64, 64,  ..., 64, 64, 64], device='cuda:0')\ndecoded_preds: ['', '', '', '', '']\ntensor([64, 64, 64,  ..., 64, 64, 64], device='cuda:0')\ntensor([64, 64, 64,  ..., 64, 64, 64], device='cuda:0')\ntensor([64, 64, 64,  ..., 64, 64, 64], device='cuda:0')\ntensor([64, 64, 64,  ..., 64, 64, 64], device='cuda:0')\ntensor([64, 64, 64,  ..., 64, 64, 64], device='cuda:0')\ndecoded_preds: ['', '', '', '', '']\ntensor([64, 64, 64,  ..., 64, 64, 64], device='cuda:0')\ntensor([64, 64, 64,  ..., 64, 64, 64], device='cuda:0')\ntensor([64, 64, 64,  ..., 64, 64, 64], device='cuda:0')\ntensor([64, 64, 64,  ..., 64, 64, 64], device='cuda:0')\ntensor([64, 64, 64,  ..., 64, 64, 64], device='cuda:0')\ndecoded_preds: ['', '', '', '', '']\ntensor([64, 64, 64,  ..., 64, 64, 64], device='cuda:0')\ntensor([64, 64, 64,  ..., 64, 64, 64], device='cuda:0')\ntensor([64, 64, 64,  ..., 64, 64, 64], device='cuda:0')\ntensor([64, 64, 64,  ..., 64, 64, 64], device='cuda:0')\ntensor([64, 64, 64,  ..., 64, 64, 64], device='cuda:0')\ndecoded_preds: ['', '', '', '', '']\ntensor([64, 64, 64,  ..., 64, 64, 64], device='cuda:0')\ntensor([64, 64, 64,  ..., 64, 64, 64], device='cuda:0')\ntensor([64, 64, 64,  ..., 64, 64, 64], device='cuda:0')\ntensor([64, 64, 64,  ..., 64, 64, 64], device='cuda:0')\ntensor([64, 64, 64,  ..., 64, 64, 64], device='cuda:0')\ndecoded_preds: ['', '', '', '', '']\ntensor([64, 64, 64,  ..., 64, 64, 64], device='cuda:0')\ntensor([64, 64, 64,  ..., 64, 64, 64], device='cuda:0')\ntensor([64, 64, 64,  ..., 64, 64, 64], device='cuda:0')\ntensor([64, 64, 64,  ..., 64, 64, 64], device='cuda:0')\ntensor([64, 64, 64,  ..., 64, 64, 64], device='cuda:0')\ndecoded_preds: ['', '', '', '', '']\ntensor([64, 64, 64,  ..., 64, 64, 64], device='cuda:0')\ntensor([64, 64, 64,  ..., 64, 64, 64], device='cuda:0')\ntensor([64, 64, 64,  ..., 64, 64, 64], device='cuda:0')\ntensor([64, 64, 64,  ..., 64, 64, 64], device='cuda:0')\ntensor([64, 64, 64,  ..., 64, 64, 64], device='cuda:0')\ndecoded_preds: ['', '', '', '', '']\ntensor([64, 64, 64,  ..., 64, 64, 64], device='cuda:0')\ntensor([64, 64, 64,  ..., 64, 64, 64], device='cuda:0')\ntensor([64, 64, 64,  ..., 64, 64, 64], device='cuda:0')\ntensor([64, 64, 64,  ..., 64, 64, 64], device='cuda:0')\ntensor([64, 64, 64,  ..., 64, 64, 64], device='cuda:0')\ndecoded_preds: ['', '', '', '', '']\ntensor([64, 64, 64,  ..., 64, 64, 64], device='cuda:0')\ntensor([64, 64, 64,  ..., 64, 64, 64], device='cuda:0')\ntensor([64, 64, 64,  ..., 64, 64, 64], device='cuda:0')\ntensor([64, 64, 64,  ..., 64, 64, 64], device='cuda:0')\ntensor([64, 64, 64,  ..., 64, 64, 64], device='cuda:0')\ndecoded_preds: ['', '', '', '', '']\ntensor([64, 64, 64,  ..., 64, 64, 64], device='cuda:0')\ntensor([64, 64, 64,  ..., 64, 64, 64], device='cuda:0')\ntensor([64, 64, 64,  ..., 64, 64, 64], device='cuda:0')\ntensor([64, 64, 64,  ..., 64, 64, 64], device='cuda:0')\ntensor([64, 64, 64,  ..., 64, 64, 64], device='cuda:0')\ndecoded_preds: ['', '', '', '', '']\ntensor([64, 64, 64,  ..., 64, 64, 64], device='cuda:0')\ntensor([64, 64, 64,  ..., 64, 64, 64], device='cuda:0')\ntensor([64, 64, 64,  ..., 64, 64, 64], device='cuda:0')\ntensor([64, 64, 64,  ..., 64, 64, 64], device='cuda:0')\ntensor([64, 64, 64,  ..., 64, 64, 64], device='cuda:0')\ndecoded_preds: ['', '', '', '', '']\ntensor([64, 64, 64,  ..., 64, 64, 64], device='cuda:0')\ntensor([64, 64, 64,  ..., 64, 64, 64], device='cuda:0')\ntensor([64, 64, 64,  ..., 64, 64, 64], device='cuda:0')\ntensor([64, 64, 64,  ..., 64, 64, 64], device='cuda:0')\ntensor([64, 64, 64,  ..., 64, 64, 64], device='cuda:0')\ndecoded_preds: ['', '', '', '', '']\ntensor([64, 64, 64,  ..., 64, 64, 64], device='cuda:0')\ntensor([64, 64, 64,  ..., 64, 64, 64], device='cuda:0')\ntensor([64, 64, 64,  ..., 64, 64, 64], device='cuda:0')\ntensor([64, 64, 64,  ..., 64, 64, 64], device='cuda:0')\ntensor([64, 64, 64,  ..., 64, 64, 64], device='cuda:0')\ndecoded_preds: ['', '', '', '', '']\ntensor([64, 64, 64,  ..., 64, 64, 64], device='cuda:0')\ntensor([64, 64, 64,  ..., 64, 64, 64], device='cuda:0')\ntensor([64, 64, 64,  ..., 64, 64, 64], device='cuda:0')\ntensor([64, 64, 64,  ..., 64, 64, 64], device='cuda:0')\ntensor([64, 64, 64,  ..., 64, 64, 64], device='cuda:0')\ndecoded_preds: ['', '', '', '', '']\ntensor([64, 64, 64,  ..., 64, 64, 64], device='cuda:0')\ntensor([64, 64, 64,  ..., 64, 64, 64], device='cuda:0')\ntensor([64, 64, 64,  ..., 64, 64, 64], device='cuda:0')\ntensor([64, 64, 64,  ..., 64, 64, 64], device='cuda:0')\ntensor([64, 64, 64,  ..., 64, 64, 64], device='cuda:0')\ndecoded_preds: ['', '', '', '', '']\ntensor([64, 64, 64,  ..., 64, 64, 64], device='cuda:0')\ntensor([64, 64, 64,  ..., 64, 64, 64], device='cuda:0')\ntensor([64, 64, 64,  ..., 64, 64, 64], device='cuda:0')\ntensor([64, 64, 64,  ..., 64, 64, 64], device='cuda:0')\ntensor([64, 64, 64,  ..., 64, 64, 64], device='cuda:0')\ndecoded_preds: ['', '', '', '', '']\ntensor([64, 64, 64,  ..., 64, 64, 64], device='cuda:0')\ntensor([64, 64, 64,  ..., 64, 64, 64], device='cuda:0')\ntensor([64, 64, 64,  ..., 64, 64, 64], device='cuda:0')\ntensor([64, 64, 64,  ..., 64, 64, 64], device='cuda:0')\ntensor([64, 64, 64,  ..., 64, 64, 64], device='cuda:0')\ndecoded_preds: ['', '', '', '', '']\nTest set: Average loss: 2.9456, Average CER: 1.000000 Average WER: 0.9987\n\n",
          "output_type": "stream"
        },
        {
          "output_type": "display_data",
          "data": {
            "text/plain": "<Figure size 1000x500 with 1 Axes>",
            "image/png": "[encoded data removed]"
          },
          "metadata": {}
        }
      ]
    },
    {
      "cell_type": "code",
      "source": [
        "main(learning_rate, batch_size, epochs, train_ds, test_ds)"
      ],
      "metadata": {
        "colab": {
          "base_uri": "https://localhost:8080/",
          "height": 1000
        },
        "id": "0YdQQAX9P_SU",
        "outputId": "2efbf2dd-5fd1-4faa-aba9-1c791f7f92c2"
      },
      "execution_count": null,
      "outputs": [
        {
          "output_type": "stream",
          "name": "stdout",
          "text": "Train Epoch: 1 [0/50 (0%)]\tLoss: 20.851820\n\nTrain Epoch: 1 [50/50 (10%)]\tLoss: 14.406153\n\nTrain Epoch: 1 [100/50 (20%)]\tLoss: 5.024222\n\nTrain Epoch: 1 [150/50 (30%)]\tLoss: 5.379881\n\nTrain Epoch: 1 [200/50 (40%)]\tLoss: 3.598843\n\nTrain Epoch: 1 [250/50 (50%)]\tLoss: 3.345028\n\nTrain Epoch: 1 [300/50 (60%)]\tLoss: 3.188621\n\nTrain Epoch: 1 [350/50 (70%)]\tLoss: 3.075439\n\nTrain Epoch: 1 [400/50 (80%)]\tLoss: 3.121321\n\nTrain Epoch: 1 [450/50 (90%)]\tLoss: 3.085147\n\n\n\n\n\nevaluating…\n\nTest set: Average loss: 3.0403, Average CER: 1.000000 Average WER: 1.0000\n\n\n\nTrain Epoch: 2 [0/50 (0%)]\tLoss: 3.056879\n\nTrain Epoch: 2 [50/50 (10%)]\tLoss: 3.109380\n\nTrain Epoch: 2 [100/50 (20%)]\tLoss: 3.049210\n\nTrain Epoch: 2 [150/50 (30%)]\tLoss: 3.020334\n\nTrain Epoch: 2 [200/50 (40%)]\tLoss: 3.025685\n\nTrain Epoch: 2 [250/50 (50%)]\tLoss: 3.050107\n\nTrain Epoch: 2 [300/50 (60%)]\tLoss: 3.022088\n\nTrain Epoch: 2 [350/50 (70%)]\tLoss: 3.107831\n\nTrain Epoch: 2 [400/50 (80%)]\tLoss: 3.039391\n\nTrain Epoch: 2 [450/50 (90%)]\tLoss: 3.032403\n\n\n\n\n\nevaluating…\n\nTest set: Average loss: 3.0155, Average CER: 1.000000 Average WER: 1.0000\n\n\n\nTrain Epoch: 3 [0/50 (0%)]\tLoss: 2.991087\n\nTrain Epoch: 3 [50/50 (10%)]\tLoss: 3.008456\n\nTrain Epoch: 3 [100/50 (20%)]\tLoss: 2.968714\n\nTrain Epoch: 3 [150/50 (30%)]\tLoss: 2.960626\n\nTrain Epoch: 3 [200/50 (40%)]\tLoss: 3.002393\n\nTrain Epoch: 3 [250/50 (50%)]\tLoss: 3.048893\n\nTrain Epoch: 3 [300/50 (60%)]\tLoss: 2.993561\n\nTrain Epoch: 3 [350/50 (70%)]\tLoss: 3.044964\n\nTrain Epoch: 3 [400/50 (80%)]\tLoss: 2.980218\n\nTrain Epoch: 3 [450/50 (90%)]\tLoss: 3.034290\n\n\n\n\n\nevaluating…\n\nTest set: Average loss: 3.0171, Average CER: 1.000000 Average WER: 1.0000\n\n\n\nTrain Epoch: 4 [0/50 (0%)]\tLoss: 3.024690\n\nTrain Epoch: 4 [50/50 (10%)]\tLoss: 2.989776\n\nTrain Epoch: 4 [100/50 (20%)]\tLoss: 3.075659\n\nTrain Epoch: 4 [150/50 (30%)]\tLoss: 3.030851\n\nTrain Epoch: 4 [200/50 (40%)]\tLoss: 3.021796\n\nTrain Epoch: 4 [250/50 (50%)]\tLoss: 3.018875\n\nTrain Epoch: 4 [300/50 (60%)]\tLoss: 3.085342\n\nTrain Epoch: 4 [350/50 (70%)]\tLoss: 2.982407\n\nTrain Epoch: 4 [400/50 (80%)]\tLoss: 3.030008\n\nTrain Epoch: 4 [450/50 (90%)]\tLoss: 3.023574\n\n\n\n\n\nevaluating…\n\nTest set: Average loss: 3.0110, Average CER: 1.000000 Average WER: 1.0000\n\n\n\nTrain Epoch: 5 [0/50 (0%)]\tLoss: 3.024331\n\nTrain Epoch: 5 [50/50 (10%)]\tLoss: 3.002446\n\nTrain Epoch: 5 [100/50 (20%)]\tLoss: 2.991416\n\nTrain Epoch: 5 [150/50 (30%)]\tLoss: 3.010945\n\nTrain Epoch: 5 [200/50 (40%)]\tLoss: 3.013384\n\nTrain Epoch: 5 [250/50 (50%)]\tLoss: 2.991912\n\nTrain Epoch: 5 [300/50 (60%)]\tLoss: 2.986408\n\nTrain Epoch: 5 [350/50 (70%)]\tLoss: 2.948359\n\nTrain Epoch: 5 [400/50 (80%)]\tLoss: 3.002769\n\nTrain Epoch: 5 [450/50 (90%)]\tLoss: 3.015228\n\n\n\n\n\nevaluating…\n\nTest set: Average loss: 3.0068, Average CER: 1.000000 Average WER: 1.0000\n\n\n"
        },
        {
          "output_type": "display_data",
          "data": {
            "text/plain": [
              "<Figure size 1000x500 with 1 Axes>"
            ],
            "image/png": "[encoded data removed]"
          },
          "metadata": {}
        }
      ]
    },
    {
      "cell_type": "code",
      "source": [],
      "metadata": {
        "id": "TnkQMWSoI15E"
      },
      "execution_count": null,
      "outputs": []
    },
    {
      "cell_type": "code",
      "source": [],
      "metadata": {
        "id": "HHLVUWhyI1bV"
      },
      "execution_count": null,
      "outputs": []
    },
    {
      "cell_type": "code",
      "source": [],
      "metadata": {
        "id": "tGnFTaW9feb-"
      },
      "execution_count": null,
      "outputs": []
    },
    {
      "cell_type": "code",
      "source": [],
      "metadata": {
        "id": "P4iePkVlv_ab"
      },
      "execution_count": null,
      "outputs": []
    }
  ]
}